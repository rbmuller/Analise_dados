{
 "cells": [
  {
   "cell_type": "markdown",
   "metadata": {},
   "source": [
    "# Regressão Linear para Estimar Preços de Imóveis\n"
   ]
  },
  {
   "cell_type": "markdown",
   "metadata": {},
   "source": [
    "Este notebook utiliza a bibiloteca sklearn para estimar preço de aluguel de imóveis, baseado em variáveis do imóvel. Dataset público do Kaggle com 10.692 Imóveis em 5 cidades diferentes. Atualizado em Maio de 2020 \n",
    "\n"
   ]
  },
  {
   "cell_type": "markdown",
   "metadata": {},
   "source": [
    "Robson Müller 29/07/2020\n",
    "\n",
    "* Criei esse notebook como reforço de aprendizagem e com base nos conteúdos dos módulos de Machine Learning e Analise de Dados para a Certificação Profissional em Data Science da IBM 2020. "
   ]
  },
  {
   "cell_type": "markdown",
   "metadata": {},
   "source": [
    "-- -- -- -- -- -- ---- -- -- -- -- -- ---- -- -- -- -- -- ---- -- -- -- -- -- ---- -- -- -- -- -- --"
   ]
  },
  {
   "cell_type": "markdown",
   "metadata": {},
   "source": [
    "Setup e Import das biblitocas que iremos usar"
   ]
  },
  {
   "cell_type": "code",
   "execution_count": 289,
   "metadata": {},
   "outputs": [],
   "source": [
    "import pandas as pd\n",
    "import numpy as np\n",
    "import matplotlib.pyplot as plt\n",
    "import seaborn as sns"
   ]
  },
  {
   "cell_type": "markdown",
   "metadata": {},
   "source": [
    "Criação do DataFrame e importação do Banco de Dados"
   ]
  },
  {
   "cell_type": "code",
   "execution_count": 290,
   "metadata": {},
   "outputs": [
    {
     "data": {
      "text/html": [
       "<div>\n",
       "<style scoped>\n",
       "    .dataframe tbody tr th:only-of-type {\n",
       "        vertical-align: middle;\n",
       "    }\n",
       "\n",
       "    .dataframe tbody tr th {\n",
       "        vertical-align: top;\n",
       "    }\n",
       "\n",
       "    .dataframe thead th {\n",
       "        text-align: right;\n",
       "    }\n",
       "</style>\n",
       "<table border=\"1\" class=\"dataframe\">\n",
       "  <thead>\n",
       "    <tr style=\"text-align: right;\">\n",
       "      <th></th>\n",
       "      <th>city</th>\n",
       "      <th>area</th>\n",
       "      <th>rooms</th>\n",
       "      <th>bathroom</th>\n",
       "      <th>parking spaces</th>\n",
       "      <th>floor</th>\n",
       "      <th>animal</th>\n",
       "      <th>furniture</th>\n",
       "      <th>hoa (R$)</th>\n",
       "      <th>rent amount (R$)</th>\n",
       "      <th>property tax (R$)</th>\n",
       "      <th>fire insurance (R$)</th>\n",
       "      <th>total (R$)</th>\n",
       "    </tr>\n",
       "  </thead>\n",
       "  <tbody>\n",
       "    <tr>\n",
       "      <td>0</td>\n",
       "      <td>São Paulo</td>\n",
       "      <td>70</td>\n",
       "      <td>2</td>\n",
       "      <td>1</td>\n",
       "      <td>1</td>\n",
       "      <td>7</td>\n",
       "      <td>acept</td>\n",
       "      <td>furnished</td>\n",
       "      <td>2065</td>\n",
       "      <td>3300</td>\n",
       "      <td>211</td>\n",
       "      <td>42</td>\n",
       "      <td>5618</td>\n",
       "    </tr>\n",
       "    <tr>\n",
       "      <td>1</td>\n",
       "      <td>São Paulo</td>\n",
       "      <td>320</td>\n",
       "      <td>4</td>\n",
       "      <td>4</td>\n",
       "      <td>0</td>\n",
       "      <td>20</td>\n",
       "      <td>acept</td>\n",
       "      <td>not furnished</td>\n",
       "      <td>1200</td>\n",
       "      <td>4960</td>\n",
       "      <td>1750</td>\n",
       "      <td>63</td>\n",
       "      <td>7973</td>\n",
       "    </tr>\n",
       "    <tr>\n",
       "      <td>2</td>\n",
       "      <td>Porto Alegre</td>\n",
       "      <td>80</td>\n",
       "      <td>1</td>\n",
       "      <td>1</td>\n",
       "      <td>1</td>\n",
       "      <td>6</td>\n",
       "      <td>acept</td>\n",
       "      <td>not furnished</td>\n",
       "      <td>1000</td>\n",
       "      <td>2800</td>\n",
       "      <td>0</td>\n",
       "      <td>41</td>\n",
       "      <td>3841</td>\n",
       "    </tr>\n",
       "    <tr>\n",
       "      <td>3</td>\n",
       "      <td>Porto Alegre</td>\n",
       "      <td>51</td>\n",
       "      <td>2</td>\n",
       "      <td>1</td>\n",
       "      <td>0</td>\n",
       "      <td>2</td>\n",
       "      <td>acept</td>\n",
       "      <td>not furnished</td>\n",
       "      <td>270</td>\n",
       "      <td>1112</td>\n",
       "      <td>22</td>\n",
       "      <td>17</td>\n",
       "      <td>1421</td>\n",
       "    </tr>\n",
       "    <tr>\n",
       "      <td>4</td>\n",
       "      <td>São Paulo</td>\n",
       "      <td>25</td>\n",
       "      <td>1</td>\n",
       "      <td>1</td>\n",
       "      <td>0</td>\n",
       "      <td>1</td>\n",
       "      <td>not acept</td>\n",
       "      <td>not furnished</td>\n",
       "      <td>0</td>\n",
       "      <td>800</td>\n",
       "      <td>25</td>\n",
       "      <td>11</td>\n",
       "      <td>836</td>\n",
       "    </tr>\n",
       "    <tr>\n",
       "      <td>5</td>\n",
       "      <td>São Paulo</td>\n",
       "      <td>376</td>\n",
       "      <td>3</td>\n",
       "      <td>3</td>\n",
       "      <td>7</td>\n",
       "      <td>-</td>\n",
       "      <td>acept</td>\n",
       "      <td>not furnished</td>\n",
       "      <td>0</td>\n",
       "      <td>8000</td>\n",
       "      <td>834</td>\n",
       "      <td>121</td>\n",
       "      <td>8955</td>\n",
       "    </tr>\n",
       "    <tr>\n",
       "      <td>6</td>\n",
       "      <td>Rio de Janeiro</td>\n",
       "      <td>72</td>\n",
       "      <td>2</td>\n",
       "      <td>1</td>\n",
       "      <td>0</td>\n",
       "      <td>7</td>\n",
       "      <td>acept</td>\n",
       "      <td>not furnished</td>\n",
       "      <td>740</td>\n",
       "      <td>1900</td>\n",
       "      <td>85</td>\n",
       "      <td>25</td>\n",
       "      <td>2750</td>\n",
       "    </tr>\n",
       "    <tr>\n",
       "      <td>7</td>\n",
       "      <td>São Paulo</td>\n",
       "      <td>213</td>\n",
       "      <td>4</td>\n",
       "      <td>4</td>\n",
       "      <td>4</td>\n",
       "      <td>4</td>\n",
       "      <td>acept</td>\n",
       "      <td>not furnished</td>\n",
       "      <td>2254</td>\n",
       "      <td>3223</td>\n",
       "      <td>1735</td>\n",
       "      <td>41</td>\n",
       "      <td>7253</td>\n",
       "    </tr>\n",
       "    <tr>\n",
       "      <td>8</td>\n",
       "      <td>São Paulo</td>\n",
       "      <td>152</td>\n",
       "      <td>2</td>\n",
       "      <td>2</td>\n",
       "      <td>1</td>\n",
       "      <td>3</td>\n",
       "      <td>acept</td>\n",
       "      <td>furnished</td>\n",
       "      <td>1000</td>\n",
       "      <td>15000</td>\n",
       "      <td>250</td>\n",
       "      <td>191</td>\n",
       "      <td>16440</td>\n",
       "    </tr>\n",
       "    <tr>\n",
       "      <td>9</td>\n",
       "      <td>Rio de Janeiro</td>\n",
       "      <td>35</td>\n",
       "      <td>1</td>\n",
       "      <td>1</td>\n",
       "      <td>0</td>\n",
       "      <td>2</td>\n",
       "      <td>acept</td>\n",
       "      <td>furnished</td>\n",
       "      <td>590</td>\n",
       "      <td>2300</td>\n",
       "      <td>35</td>\n",
       "      <td>30</td>\n",
       "      <td>2955</td>\n",
       "    </tr>\n",
       "  </tbody>\n",
       "</table>\n",
       "</div>"
      ],
      "text/plain": [
       "             city  area  rooms  bathroom  parking spaces floor     animal  \\\n",
       "0       São Paulo    70      2         1               1     7      acept   \n",
       "1       São Paulo   320      4         4               0    20      acept   \n",
       "2    Porto Alegre    80      1         1               1     6      acept   \n",
       "3    Porto Alegre    51      2         1               0     2      acept   \n",
       "4       São Paulo    25      1         1               0     1  not acept   \n",
       "5       São Paulo   376      3         3               7     -      acept   \n",
       "6  Rio de Janeiro    72      2         1               0     7      acept   \n",
       "7       São Paulo   213      4         4               4     4      acept   \n",
       "8       São Paulo   152      2         2               1     3      acept   \n",
       "9  Rio de Janeiro    35      1         1               0     2      acept   \n",
       "\n",
       "       furniture  hoa (R$)  rent amount (R$)  property tax (R$)  \\\n",
       "0      furnished      2065              3300                211   \n",
       "1  not furnished      1200              4960               1750   \n",
       "2  not furnished      1000              2800                  0   \n",
       "3  not furnished       270              1112                 22   \n",
       "4  not furnished         0               800                 25   \n",
       "5  not furnished         0              8000                834   \n",
       "6  not furnished       740              1900                 85   \n",
       "7  not furnished      2254              3223               1735   \n",
       "8      furnished      1000             15000                250   \n",
       "9      furnished       590              2300                 35   \n",
       "\n",
       "   fire insurance (R$)  total (R$)  \n",
       "0                   42        5618  \n",
       "1                   63        7973  \n",
       "2                   41        3841  \n",
       "3                   17        1421  \n",
       "4                   11         836  \n",
       "5                  121        8955  \n",
       "6                   25        2750  \n",
       "7                   41        7253  \n",
       "8                  191       16440  \n",
       "9                   30        2955  "
      ]
     },
     "execution_count": 290,
     "metadata": {},
     "output_type": "execute_result"
    }
   ],
   "source": [
    "df = pd.read_csv('houses_to_rent_v2.csv',sep=',')\n",
    "df.head(10)"
   ]
  },
  {
   "cell_type": "markdown",
   "metadata": {},
   "source": [
    "Os nomes das colunas e algumas informações descritivas estão em inglês. Vamos trocar para português"
   ]
  },
  {
   "cell_type": "code",
   "execution_count": 291,
   "metadata": {},
   "outputs": [],
   "source": [
    "colunas = ['Cidade','Area','Quartos','Banheiros','Vaga_estac','Andar',\n",
    "           'Permite_pet','Mobilia','hoa (R$)','Aluguel','Condominio',\n",
    "           'Seguro_incendio','total (R$)']\n",
    "\n",
    "df.columns = colunas"
   ]
  },
  {
   "cell_type": "code",
   "execution_count": 292,
   "metadata": {},
   "outputs": [],
   "source": [
    "df = df.replace(to_replace = 'acept',value = 'sim')\n",
    "df = df.replace(to_replace = 'not acept',value = 'nao')\n",
    "df = df.replace(to_replace = 'furnished',value = 'sim')\n",
    "df = df.replace(to_replace = 'not furnished',value = 'nao')"
   ]
  },
  {
   "cell_type": "markdown",
   "metadata": {},
   "source": [
    "A informação do Andar do imóvel está no formato de objeto. Vamos transformá-la em 'numero'"
   ]
  },
  {
   "cell_type": "code",
   "execution_count": 293,
   "metadata": {},
   "outputs": [
    {
     "name": "stdout",
     "output_type": "stream",
     "text": [
      "Cidade             object\n",
      "Area                int64\n",
      "Quartos             int64\n",
      "Banheiros           int64\n",
      "Vaga_estac          int64\n",
      "Andar              object\n",
      "Permite_pet        object\n",
      "Mobilia            object\n",
      "hoa (R$)            int64\n",
      "Aluguel             int64\n",
      "Condominio          int64\n",
      "Seguro_incendio     int64\n",
      "total (R$)          int64\n",
      "dtype: object\n"
     ]
    }
   ],
   "source": [
    "print(df.dtypes)\n"
   ]
  },
  {
   "cell_type": "code",
   "execution_count": 294,
   "metadata": {},
   "outputs": [],
   "source": [
    "df['Andar'] = df[\"Andar\"].replace('-','0')\n",
    "df['Andar'] = df['Andar'].astype('int')"
   ]
  },
  {
   "cell_type": "markdown",
   "metadata": {},
   "source": [
    "Uma variável não presente em nosso DataFrame é o preço do m2 dos imóveis. Vamos adicioná-la. "
   ]
  },
  {
   "cell_type": "code",
   "execution_count": 295,
   "metadata": {},
   "outputs": [],
   "source": [
    "df['preco_m2'] = df['Aluguel'] / df['Area']"
   ]
  },
  {
   "cell_type": "markdown",
   "metadata": {},
   "source": [
    "Pronto. Agora podemos checar como os dados ficaram após um breve tratamento"
   ]
  },
  {
   "cell_type": "code",
   "execution_count": 296,
   "metadata": {},
   "outputs": [
    {
     "data": {
      "text/html": [
       "<div>\n",
       "<style scoped>\n",
       "    .dataframe tbody tr th:only-of-type {\n",
       "        vertical-align: middle;\n",
       "    }\n",
       "\n",
       "    .dataframe tbody tr th {\n",
       "        vertical-align: top;\n",
       "    }\n",
       "\n",
       "    .dataframe thead th {\n",
       "        text-align: right;\n",
       "    }\n",
       "</style>\n",
       "<table border=\"1\" class=\"dataframe\">\n",
       "  <thead>\n",
       "    <tr style=\"text-align: right;\">\n",
       "      <th></th>\n",
       "      <th>Cidade</th>\n",
       "      <th>Area</th>\n",
       "      <th>Quartos</th>\n",
       "      <th>Banheiros</th>\n",
       "      <th>Vaga_estac</th>\n",
       "      <th>Andar</th>\n",
       "      <th>Permite_pet</th>\n",
       "      <th>Mobilia</th>\n",
       "      <th>hoa (R$)</th>\n",
       "      <th>Aluguel</th>\n",
       "      <th>Condominio</th>\n",
       "      <th>Seguro_incendio</th>\n",
       "      <th>total (R$)</th>\n",
       "      <th>preco_m2</th>\n",
       "    </tr>\n",
       "  </thead>\n",
       "  <tbody>\n",
       "    <tr>\n",
       "      <td>0</td>\n",
       "      <td>São Paulo</td>\n",
       "      <td>70</td>\n",
       "      <td>2</td>\n",
       "      <td>1</td>\n",
       "      <td>1</td>\n",
       "      <td>7</td>\n",
       "      <td>sim</td>\n",
       "      <td>sim</td>\n",
       "      <td>2065</td>\n",
       "      <td>3300</td>\n",
       "      <td>211</td>\n",
       "      <td>42</td>\n",
       "      <td>5618</td>\n",
       "      <td>47.142857</td>\n",
       "    </tr>\n",
       "    <tr>\n",
       "      <td>1</td>\n",
       "      <td>São Paulo</td>\n",
       "      <td>320</td>\n",
       "      <td>4</td>\n",
       "      <td>4</td>\n",
       "      <td>0</td>\n",
       "      <td>20</td>\n",
       "      <td>sim</td>\n",
       "      <td>nao</td>\n",
       "      <td>1200</td>\n",
       "      <td>4960</td>\n",
       "      <td>1750</td>\n",
       "      <td>63</td>\n",
       "      <td>7973</td>\n",
       "      <td>15.500000</td>\n",
       "    </tr>\n",
       "    <tr>\n",
       "      <td>2</td>\n",
       "      <td>Porto Alegre</td>\n",
       "      <td>80</td>\n",
       "      <td>1</td>\n",
       "      <td>1</td>\n",
       "      <td>1</td>\n",
       "      <td>6</td>\n",
       "      <td>sim</td>\n",
       "      <td>nao</td>\n",
       "      <td>1000</td>\n",
       "      <td>2800</td>\n",
       "      <td>0</td>\n",
       "      <td>41</td>\n",
       "      <td>3841</td>\n",
       "      <td>35.000000</td>\n",
       "    </tr>\n",
       "    <tr>\n",
       "      <td>3</td>\n",
       "      <td>Porto Alegre</td>\n",
       "      <td>51</td>\n",
       "      <td>2</td>\n",
       "      <td>1</td>\n",
       "      <td>0</td>\n",
       "      <td>2</td>\n",
       "      <td>sim</td>\n",
       "      <td>nao</td>\n",
       "      <td>270</td>\n",
       "      <td>1112</td>\n",
       "      <td>22</td>\n",
       "      <td>17</td>\n",
       "      <td>1421</td>\n",
       "      <td>21.803922</td>\n",
       "    </tr>\n",
       "    <tr>\n",
       "      <td>4</td>\n",
       "      <td>São Paulo</td>\n",
       "      <td>25</td>\n",
       "      <td>1</td>\n",
       "      <td>1</td>\n",
       "      <td>0</td>\n",
       "      <td>1</td>\n",
       "      <td>nao</td>\n",
       "      <td>nao</td>\n",
       "      <td>0</td>\n",
       "      <td>800</td>\n",
       "      <td>25</td>\n",
       "      <td>11</td>\n",
       "      <td>836</td>\n",
       "      <td>32.000000</td>\n",
       "    </tr>\n",
       "    <tr>\n",
       "      <td>5</td>\n",
       "      <td>São Paulo</td>\n",
       "      <td>376</td>\n",
       "      <td>3</td>\n",
       "      <td>3</td>\n",
       "      <td>7</td>\n",
       "      <td>0</td>\n",
       "      <td>sim</td>\n",
       "      <td>nao</td>\n",
       "      <td>0</td>\n",
       "      <td>8000</td>\n",
       "      <td>834</td>\n",
       "      <td>121</td>\n",
       "      <td>8955</td>\n",
       "      <td>21.276596</td>\n",
       "    </tr>\n",
       "    <tr>\n",
       "      <td>6</td>\n",
       "      <td>Rio de Janeiro</td>\n",
       "      <td>72</td>\n",
       "      <td>2</td>\n",
       "      <td>1</td>\n",
       "      <td>0</td>\n",
       "      <td>7</td>\n",
       "      <td>sim</td>\n",
       "      <td>nao</td>\n",
       "      <td>740</td>\n",
       "      <td>1900</td>\n",
       "      <td>85</td>\n",
       "      <td>25</td>\n",
       "      <td>2750</td>\n",
       "      <td>26.388889</td>\n",
       "    </tr>\n",
       "    <tr>\n",
       "      <td>7</td>\n",
       "      <td>São Paulo</td>\n",
       "      <td>213</td>\n",
       "      <td>4</td>\n",
       "      <td>4</td>\n",
       "      <td>4</td>\n",
       "      <td>4</td>\n",
       "      <td>sim</td>\n",
       "      <td>nao</td>\n",
       "      <td>2254</td>\n",
       "      <td>3223</td>\n",
       "      <td>1735</td>\n",
       "      <td>41</td>\n",
       "      <td>7253</td>\n",
       "      <td>15.131455</td>\n",
       "    </tr>\n",
       "    <tr>\n",
       "      <td>8</td>\n",
       "      <td>São Paulo</td>\n",
       "      <td>152</td>\n",
       "      <td>2</td>\n",
       "      <td>2</td>\n",
       "      <td>1</td>\n",
       "      <td>3</td>\n",
       "      <td>sim</td>\n",
       "      <td>sim</td>\n",
       "      <td>1000</td>\n",
       "      <td>15000</td>\n",
       "      <td>250</td>\n",
       "      <td>191</td>\n",
       "      <td>16440</td>\n",
       "      <td>98.684211</td>\n",
       "    </tr>\n",
       "    <tr>\n",
       "      <td>9</td>\n",
       "      <td>Rio de Janeiro</td>\n",
       "      <td>35</td>\n",
       "      <td>1</td>\n",
       "      <td>1</td>\n",
       "      <td>0</td>\n",
       "      <td>2</td>\n",
       "      <td>sim</td>\n",
       "      <td>sim</td>\n",
       "      <td>590</td>\n",
       "      <td>2300</td>\n",
       "      <td>35</td>\n",
       "      <td>30</td>\n",
       "      <td>2955</td>\n",
       "      <td>65.714286</td>\n",
       "    </tr>\n",
       "  </tbody>\n",
       "</table>\n",
       "</div>"
      ],
      "text/plain": [
       "           Cidade  Area  Quartos  Banheiros  Vaga_estac  Andar Permite_pet  \\\n",
       "0       São Paulo    70        2          1           1      7         sim   \n",
       "1       São Paulo   320        4          4           0     20         sim   \n",
       "2    Porto Alegre    80        1          1           1      6         sim   \n",
       "3    Porto Alegre    51        2          1           0      2         sim   \n",
       "4       São Paulo    25        1          1           0      1         nao   \n",
       "5       São Paulo   376        3          3           7      0         sim   \n",
       "6  Rio de Janeiro    72        2          1           0      7         sim   \n",
       "7       São Paulo   213        4          4           4      4         sim   \n",
       "8       São Paulo   152        2          2           1      3         sim   \n",
       "9  Rio de Janeiro    35        1          1           0      2         sim   \n",
       "\n",
       "  Mobilia  hoa (R$)  Aluguel  Condominio  Seguro_incendio  total (R$)  \\\n",
       "0     sim      2065     3300         211               42        5618   \n",
       "1     nao      1200     4960        1750               63        7973   \n",
       "2     nao      1000     2800           0               41        3841   \n",
       "3     nao       270     1112          22               17        1421   \n",
       "4     nao         0      800          25               11         836   \n",
       "5     nao         0     8000         834              121        8955   \n",
       "6     nao       740     1900          85               25        2750   \n",
       "7     nao      2254     3223        1735               41        7253   \n",
       "8     sim      1000    15000         250              191       16440   \n",
       "9     sim       590     2300          35               30        2955   \n",
       "\n",
       "    preco_m2  \n",
       "0  47.142857  \n",
       "1  15.500000  \n",
       "2  35.000000  \n",
       "3  21.803922  \n",
       "4  32.000000  \n",
       "5  21.276596  \n",
       "6  26.388889  \n",
       "7  15.131455  \n",
       "8  98.684211  \n",
       "9  65.714286  "
      ]
     },
     "execution_count": 296,
     "metadata": {},
     "output_type": "execute_result"
    }
   ],
   "source": [
    "df.head(10)"
   ]
  },
  {
   "cell_type": "code",
   "execution_count": 297,
   "metadata": {},
   "outputs": [
    {
     "data": {
      "text/html": [
       "<div>\n",
       "<style scoped>\n",
       "    .dataframe tbody tr th:only-of-type {\n",
       "        vertical-align: middle;\n",
       "    }\n",
       "\n",
       "    .dataframe tbody tr th {\n",
       "        vertical-align: top;\n",
       "    }\n",
       "\n",
       "    .dataframe thead th {\n",
       "        text-align: right;\n",
       "    }\n",
       "</style>\n",
       "<table border=\"1\" class=\"dataframe\">\n",
       "  <thead>\n",
       "    <tr style=\"text-align: right;\">\n",
       "      <th></th>\n",
       "      <th>Area</th>\n",
       "      <th>Quartos</th>\n",
       "      <th>Banheiros</th>\n",
       "      <th>Vaga_estac</th>\n",
       "      <th>Andar</th>\n",
       "      <th>hoa (R$)</th>\n",
       "      <th>Aluguel</th>\n",
       "      <th>Condominio</th>\n",
       "      <th>Seguro_incendio</th>\n",
       "      <th>total (R$)</th>\n",
       "      <th>preco_m2</th>\n",
       "    </tr>\n",
       "  </thead>\n",
       "  <tbody>\n",
       "    <tr>\n",
       "      <td>count</td>\n",
       "      <td>10692.000000</td>\n",
       "      <td>10692.000000</td>\n",
       "      <td>10692.000000</td>\n",
       "      <td>10692.000000</td>\n",
       "      <td>10692.000000</td>\n",
       "      <td>1.069200e+04</td>\n",
       "      <td>10692.000000</td>\n",
       "      <td>10692.000000</td>\n",
       "      <td>10692.000000</td>\n",
       "      <td>1.069200e+04</td>\n",
       "      <td>10692.000000</td>\n",
       "    </tr>\n",
       "    <tr>\n",
       "      <td>mean</td>\n",
       "      <td>149.217920</td>\n",
       "      <td>2.506079</td>\n",
       "      <td>2.236813</td>\n",
       "      <td>1.609147</td>\n",
       "      <td>5.067995</td>\n",
       "      <td>1.174022e+03</td>\n",
       "      <td>3896.247194</td>\n",
       "      <td>366.704358</td>\n",
       "      <td>53.300879</td>\n",
       "      <td>5.490487e+03</td>\n",
       "      <td>33.426097</td>\n",
       "    </tr>\n",
       "    <tr>\n",
       "      <td>std</td>\n",
       "      <td>537.016942</td>\n",
       "      <td>1.171266</td>\n",
       "      <td>1.407198</td>\n",
       "      <td>1.589521</td>\n",
       "      <td>6.069050</td>\n",
       "      <td>1.559231e+04</td>\n",
       "      <td>3408.545518</td>\n",
       "      <td>3107.832321</td>\n",
       "      <td>47.768031</td>\n",
       "      <td>1.648473e+04</td>\n",
       "      <td>22.831340</td>\n",
       "    </tr>\n",
       "    <tr>\n",
       "      <td>min</td>\n",
       "      <td>11.000000</td>\n",
       "      <td>1.000000</td>\n",
       "      <td>1.000000</td>\n",
       "      <td>0.000000</td>\n",
       "      <td>0.000000</td>\n",
       "      <td>0.000000e+00</td>\n",
       "      <td>450.000000</td>\n",
       "      <td>0.000000</td>\n",
       "      <td>3.000000</td>\n",
       "      <td>4.990000e+02</td>\n",
       "      <td>0.125668</td>\n",
       "    </tr>\n",
       "    <tr>\n",
       "      <td>25%</td>\n",
       "      <td>56.000000</td>\n",
       "      <td>2.000000</td>\n",
       "      <td>1.000000</td>\n",
       "      <td>0.000000</td>\n",
       "      <td>1.000000</td>\n",
       "      <td>1.700000e+02</td>\n",
       "      <td>1530.000000</td>\n",
       "      <td>38.000000</td>\n",
       "      <td>21.000000</td>\n",
       "      <td>2.061750e+03</td>\n",
       "      <td>18.571429</td>\n",
       "    </tr>\n",
       "    <tr>\n",
       "      <td>50%</td>\n",
       "      <td>90.000000</td>\n",
       "      <td>2.000000</td>\n",
       "      <td>2.000000</td>\n",
       "      <td>1.000000</td>\n",
       "      <td>3.000000</td>\n",
       "      <td>5.600000e+02</td>\n",
       "      <td>2661.000000</td>\n",
       "      <td>125.000000</td>\n",
       "      <td>36.000000</td>\n",
       "      <td>3.581500e+03</td>\n",
       "      <td>26.666667</td>\n",
       "    </tr>\n",
       "    <tr>\n",
       "      <td>75%</td>\n",
       "      <td>182.000000</td>\n",
       "      <td>3.000000</td>\n",
       "      <td>3.000000</td>\n",
       "      <td>2.000000</td>\n",
       "      <td>8.000000</td>\n",
       "      <td>1.237500e+03</td>\n",
       "      <td>5000.000000</td>\n",
       "      <td>375.000000</td>\n",
       "      <td>68.000000</td>\n",
       "      <td>6.768000e+03</td>\n",
       "      <td>40.714286</td>\n",
       "    </tr>\n",
       "    <tr>\n",
       "      <td>max</td>\n",
       "      <td>46335.000000</td>\n",
       "      <td>13.000000</td>\n",
       "      <td>10.000000</td>\n",
       "      <td>12.000000</td>\n",
       "      <td>301.000000</td>\n",
       "      <td>1.117000e+06</td>\n",
       "      <td>45000.000000</td>\n",
       "      <td>313700.000000</td>\n",
       "      <td>677.000000</td>\n",
       "      <td>1.120000e+06</td>\n",
       "      <td>300.000000</td>\n",
       "    </tr>\n",
       "  </tbody>\n",
       "</table>\n",
       "</div>"
      ],
      "text/plain": [
       "               Area       Quartos     Banheiros    Vaga_estac         Andar  \\\n",
       "count  10692.000000  10692.000000  10692.000000  10692.000000  10692.000000   \n",
       "mean     149.217920      2.506079      2.236813      1.609147      5.067995   \n",
       "std      537.016942      1.171266      1.407198      1.589521      6.069050   \n",
       "min       11.000000      1.000000      1.000000      0.000000      0.000000   \n",
       "25%       56.000000      2.000000      1.000000      0.000000      1.000000   \n",
       "50%       90.000000      2.000000      2.000000      1.000000      3.000000   \n",
       "75%      182.000000      3.000000      3.000000      2.000000      8.000000   \n",
       "max    46335.000000     13.000000     10.000000     12.000000    301.000000   \n",
       "\n",
       "           hoa (R$)       Aluguel     Condominio  Seguro_incendio  \\\n",
       "count  1.069200e+04  10692.000000   10692.000000     10692.000000   \n",
       "mean   1.174022e+03   3896.247194     366.704358        53.300879   \n",
       "std    1.559231e+04   3408.545518    3107.832321        47.768031   \n",
       "min    0.000000e+00    450.000000       0.000000         3.000000   \n",
       "25%    1.700000e+02   1530.000000      38.000000        21.000000   \n",
       "50%    5.600000e+02   2661.000000     125.000000        36.000000   \n",
       "75%    1.237500e+03   5000.000000     375.000000        68.000000   \n",
       "max    1.117000e+06  45000.000000  313700.000000       677.000000   \n",
       "\n",
       "         total (R$)      preco_m2  \n",
       "count  1.069200e+04  10692.000000  \n",
       "mean   5.490487e+03     33.426097  \n",
       "std    1.648473e+04     22.831340  \n",
       "min    4.990000e+02      0.125668  \n",
       "25%    2.061750e+03     18.571429  \n",
       "50%    3.581500e+03     26.666667  \n",
       "75%    6.768000e+03     40.714286  \n",
       "max    1.120000e+06    300.000000  "
      ]
     },
     "execution_count": 297,
     "metadata": {},
     "output_type": "execute_result"
    }
   ],
   "source": [
    "df.describe()"
   ]
  },
  {
   "cell_type": "code",
   "execution_count": 298,
   "metadata": {},
   "outputs": [
    {
     "data": {
      "text/html": [
       "<div>\n",
       "<style scoped>\n",
       "    .dataframe tbody tr th:only-of-type {\n",
       "        vertical-align: middle;\n",
       "    }\n",
       "\n",
       "    .dataframe tbody tr th {\n",
       "        vertical-align: top;\n",
       "    }\n",
       "\n",
       "    .dataframe thead th {\n",
       "        text-align: right;\n",
       "    }\n",
       "</style>\n",
       "<table border=\"1\" class=\"dataframe\">\n",
       "  <thead>\n",
       "    <tr style=\"text-align: right;\">\n",
       "      <th></th>\n",
       "      <th>Cidade</th>\n",
       "      <th>Permite_pet</th>\n",
       "      <th>Mobilia</th>\n",
       "    </tr>\n",
       "  </thead>\n",
       "  <tbody>\n",
       "    <tr>\n",
       "      <td>count</td>\n",
       "      <td>10692</td>\n",
       "      <td>10692</td>\n",
       "      <td>10692</td>\n",
       "    </tr>\n",
       "    <tr>\n",
       "      <td>unique</td>\n",
       "      <td>5</td>\n",
       "      <td>2</td>\n",
       "      <td>2</td>\n",
       "    </tr>\n",
       "    <tr>\n",
       "      <td>top</td>\n",
       "      <td>São Paulo</td>\n",
       "      <td>sim</td>\n",
       "      <td>nao</td>\n",
       "    </tr>\n",
       "    <tr>\n",
       "      <td>freq</td>\n",
       "      <td>5887</td>\n",
       "      <td>8316</td>\n",
       "      <td>8086</td>\n",
       "    </tr>\n",
       "  </tbody>\n",
       "</table>\n",
       "</div>"
      ],
      "text/plain": [
       "           Cidade Permite_pet Mobilia\n",
       "count       10692       10692   10692\n",
       "unique          5           2       2\n",
       "top     São Paulo         sim     nao\n",
       "freq         5887        8316    8086"
      ]
     },
     "execution_count": 298,
     "metadata": {},
     "output_type": "execute_result"
    }
   ],
   "source": [
    "df.describe(include = ['object'])"
   ]
  },
  {
   "cell_type": "markdown",
   "metadata": {},
   "source": [
    "Vejamos. Para aplicar um algoritmo de regressão os dados precisam estar normalizados. Isso quer dizer, onde existam variáveis com valores muito discrepantes, como é o caso da área do Imóvel, que tem um desvio padrão de 537. Iremos aplicar uma das possíveis técnicas, que é: (valor/valor(max)) assim teremos um intervalo de 0 à 1 para este dado. Porém antes vamos checar os 'outliers' para esta informação."
   ]
  },
  {
   "cell_type": "code",
   "execution_count": 299,
   "metadata": {},
   "outputs": [
    {
     "data": {
      "text/plain": [
       "<matplotlib.axes._subplots.AxesSubplot at 0x7ff2d3ddd990>"
      ]
     },
     "execution_count": 299,
     "metadata": {},
     "output_type": "execute_result"
    },
    {
     "data": {
      "image/png": "[encoded data removed]",
      "text/plain": [
       "<Figure size 432x288 with 1 Axes>"
      ]
     },
     "metadata": {
      "needs_background": "light"
     },
     "output_type": "display_data"
    }
   ],
   "source": [
    "sns.regplot(x='Aluguel',y='Area',data=df)"
   ]
  },
  {
   "cell_type": "markdown",
   "metadata": {},
   "source": [
    "Notamos que existem 3 outliers com Area do Imóvel superior à 10.000m2. Vamos remove-los."
   ]
  },
  {
   "cell_type": "code",
   "execution_count": 300,
   "metadata": {},
   "outputs": [],
   "source": [
    "df = df[df.Area < 10000]"
   ]
  },
  {
   "cell_type": "code",
   "execution_count": 301,
   "metadata": {},
   "outputs": [
    {
     "data": {
      "text/plain": [
       "<matplotlib.axes._subplots.AxesSubplot at 0x7ff2d3f02a50>"
      ]
     },
     "execution_count": 301,
     "metadata": {},
     "output_type": "execute_result"
    },
    {
     "data": {
      "image/png": "[encoded data removed]",
      "text/plain": [
       "<Figure size 432x288 with 1 Axes>"
      ]
     },
     "metadata": {
      "needs_background": "light"
     },
     "output_type": "display_data"
    }
   ],
   "source": [
    "sns.regplot(x='Aluguel',y='Area',data=df)"
   ]
  },
  {
   "cell_type": "code",
   "execution_count": 302,
   "metadata": {},
   "outputs": [],
   "source": [
    "df['Area'] = df['Area'] / df['Area'].max()\n",
    "df['Condominio'] = df['Condominio'] / df['Condominio'].max()\n",
    "df['Seguro_incendio'] = df['Seguro_incendio'] / df['Seguro_incendio'].max()"
   ]
  },
  {
   "cell_type": "code",
   "execution_count": 303,
   "metadata": {},
   "outputs": [
    {
     "data": {
      "text/html": [
       "<div>\n",
       "<style scoped>\n",
       "    .dataframe tbody tr th:only-of-type {\n",
       "        vertical-align: middle;\n",
       "    }\n",
       "\n",
       "    .dataframe tbody tr th {\n",
       "        vertical-align: top;\n",
       "    }\n",
       "\n",
       "    .dataframe thead th {\n",
       "        text-align: right;\n",
       "    }\n",
       "</style>\n",
       "<table border=\"1\" class=\"dataframe\">\n",
       "  <thead>\n",
       "    <tr style=\"text-align: right;\">\n",
       "      <th></th>\n",
       "      <th>Seguro_incendio</th>\n",
       "      <th>Condominio</th>\n",
       "      <th>Area</th>\n",
       "    </tr>\n",
       "  </thead>\n",
       "  <tbody>\n",
       "    <tr>\n",
       "      <td>0</td>\n",
       "      <td>0.062038</td>\n",
       "      <td>0.000673</td>\n",
       "      <td>0.0350</td>\n",
       "    </tr>\n",
       "    <tr>\n",
       "      <td>1</td>\n",
       "      <td>0.093058</td>\n",
       "      <td>0.005579</td>\n",
       "      <td>0.1600</td>\n",
       "    </tr>\n",
       "    <tr>\n",
       "      <td>2</td>\n",
       "      <td>0.060561</td>\n",
       "      <td>0.000000</td>\n",
       "      <td>0.0400</td>\n",
       "    </tr>\n",
       "    <tr>\n",
       "      <td>3</td>\n",
       "      <td>0.025111</td>\n",
       "      <td>0.000070</td>\n",
       "      <td>0.0255</td>\n",
       "    </tr>\n",
       "    <tr>\n",
       "      <td>4</td>\n",
       "      <td>0.016248</td>\n",
       "      <td>0.000080</td>\n",
       "      <td>0.0125</td>\n",
       "    </tr>\n",
       "    <tr>\n",
       "      <td>5</td>\n",
       "      <td>0.178730</td>\n",
       "      <td>0.002659</td>\n",
       "      <td>0.1880</td>\n",
       "    </tr>\n",
       "    <tr>\n",
       "      <td>6</td>\n",
       "      <td>0.036928</td>\n",
       "      <td>0.000271</td>\n",
       "      <td>0.0360</td>\n",
       "    </tr>\n",
       "    <tr>\n",
       "      <td>7</td>\n",
       "      <td>0.060561</td>\n",
       "      <td>0.005531</td>\n",
       "      <td>0.1065</td>\n",
       "    </tr>\n",
       "    <tr>\n",
       "      <td>8</td>\n",
       "      <td>0.282127</td>\n",
       "      <td>0.000797</td>\n",
       "      <td>0.0760</td>\n",
       "    </tr>\n",
       "    <tr>\n",
       "      <td>9</td>\n",
       "      <td>0.044313</td>\n",
       "      <td>0.000112</td>\n",
       "      <td>0.0175</td>\n",
       "    </tr>\n",
       "  </tbody>\n",
       "</table>\n",
       "</div>"
      ],
      "text/plain": [
       "   Seguro_incendio  Condominio    Area\n",
       "0         0.062038    0.000673  0.0350\n",
       "1         0.093058    0.005579  0.1600\n",
       "2         0.060561    0.000000  0.0400\n",
       "3         0.025111    0.000070  0.0255\n",
       "4         0.016248    0.000080  0.0125\n",
       "5         0.178730    0.002659  0.1880\n",
       "6         0.036928    0.000271  0.0360\n",
       "7         0.060561    0.005531  0.1065\n",
       "8         0.282127    0.000797  0.0760\n",
       "9         0.044313    0.000112  0.0175"
      ]
     },
     "execution_count": 303,
     "metadata": {},
     "output_type": "execute_result"
    }
   ],
   "source": [
    "df[['Seguro_incendio','Condominio','Area']].head(10)"
   ]
  },
  {
   "cell_type": "code",
   "execution_count": 304,
   "metadata": {},
   "outputs": [
    {
     "data": {
      "text/html": [
       "<div>\n",
       "<style scoped>\n",
       "    .dataframe tbody tr th:only-of-type {\n",
       "        vertical-align: middle;\n",
       "    }\n",
       "\n",
       "    .dataframe tbody tr th {\n",
       "        vertical-align: top;\n",
       "    }\n",
       "\n",
       "    .dataframe thead th {\n",
       "        text-align: right;\n",
       "    }\n",
       "</style>\n",
       "<table border=\"1\" class=\"dataframe\">\n",
       "  <thead>\n",
       "    <tr style=\"text-align: right;\">\n",
       "      <th></th>\n",
       "      <th>Cidade</th>\n",
       "      <th>Area</th>\n",
       "      <th>Quartos</th>\n",
       "      <th>Banheiros</th>\n",
       "      <th>Vaga_estac</th>\n",
       "      <th>Andar</th>\n",
       "      <th>Permite_pet</th>\n",
       "      <th>Mobilia</th>\n",
       "      <th>hoa (R$)</th>\n",
       "      <th>Aluguel</th>\n",
       "      <th>Condominio</th>\n",
       "      <th>Seguro_incendio</th>\n",
       "      <th>total (R$)</th>\n",
       "      <th>preco_m2</th>\n",
       "    </tr>\n",
       "  </thead>\n",
       "  <tbody>\n",
       "    <tr>\n",
       "      <td>0</td>\n",
       "      <td>São Paulo</td>\n",
       "      <td>0.0350</td>\n",
       "      <td>2</td>\n",
       "      <td>1</td>\n",
       "      <td>1</td>\n",
       "      <td>7</td>\n",
       "      <td>sim</td>\n",
       "      <td>sim</td>\n",
       "      <td>2065</td>\n",
       "      <td>3300</td>\n",
       "      <td>0.000673</td>\n",
       "      <td>0.062038</td>\n",
       "      <td>5618</td>\n",
       "      <td>47.142857</td>\n",
       "    </tr>\n",
       "    <tr>\n",
       "      <td>1</td>\n",
       "      <td>São Paulo</td>\n",
       "      <td>0.1600</td>\n",
       "      <td>4</td>\n",
       "      <td>4</td>\n",
       "      <td>0</td>\n",
       "      <td>20</td>\n",
       "      <td>sim</td>\n",
       "      <td>nao</td>\n",
       "      <td>1200</td>\n",
       "      <td>4960</td>\n",
       "      <td>0.005579</td>\n",
       "      <td>0.093058</td>\n",
       "      <td>7973</td>\n",
       "      <td>15.500000</td>\n",
       "    </tr>\n",
       "    <tr>\n",
       "      <td>2</td>\n",
       "      <td>Porto Alegre</td>\n",
       "      <td>0.0400</td>\n",
       "      <td>1</td>\n",
       "      <td>1</td>\n",
       "      <td>1</td>\n",
       "      <td>6</td>\n",
       "      <td>sim</td>\n",
       "      <td>nao</td>\n",
       "      <td>1000</td>\n",
       "      <td>2800</td>\n",
       "      <td>0.000000</td>\n",
       "      <td>0.060561</td>\n",
       "      <td>3841</td>\n",
       "      <td>35.000000</td>\n",
       "    </tr>\n",
       "    <tr>\n",
       "      <td>3</td>\n",
       "      <td>Porto Alegre</td>\n",
       "      <td>0.0255</td>\n",
       "      <td>2</td>\n",
       "      <td>1</td>\n",
       "      <td>0</td>\n",
       "      <td>2</td>\n",
       "      <td>sim</td>\n",
       "      <td>nao</td>\n",
       "      <td>270</td>\n",
       "      <td>1112</td>\n",
       "      <td>0.000070</td>\n",
       "      <td>0.025111</td>\n",
       "      <td>1421</td>\n",
       "      <td>21.803922</td>\n",
       "    </tr>\n",
       "    <tr>\n",
       "      <td>4</td>\n",
       "      <td>São Paulo</td>\n",
       "      <td>0.0125</td>\n",
       "      <td>1</td>\n",
       "      <td>1</td>\n",
       "      <td>0</td>\n",
       "      <td>1</td>\n",
       "      <td>nao</td>\n",
       "      <td>nao</td>\n",
       "      <td>0</td>\n",
       "      <td>800</td>\n",
       "      <td>0.000080</td>\n",
       "      <td>0.016248</td>\n",
       "      <td>836</td>\n",
       "      <td>32.000000</td>\n",
       "    </tr>\n",
       "    <tr>\n",
       "      <td>5</td>\n",
       "      <td>São Paulo</td>\n",
       "      <td>0.1880</td>\n",
       "      <td>3</td>\n",
       "      <td>3</td>\n",
       "      <td>7</td>\n",
       "      <td>0</td>\n",
       "      <td>sim</td>\n",
       "      <td>nao</td>\n",
       "      <td>0</td>\n",
       "      <td>8000</td>\n",
       "      <td>0.002659</td>\n",
       "      <td>0.178730</td>\n",
       "      <td>8955</td>\n",
       "      <td>21.276596</td>\n",
       "    </tr>\n",
       "    <tr>\n",
       "      <td>6</td>\n",
       "      <td>Rio de Janeiro</td>\n",
       "      <td>0.0360</td>\n",
       "      <td>2</td>\n",
       "      <td>1</td>\n",
       "      <td>0</td>\n",
       "      <td>7</td>\n",
       "      <td>sim</td>\n",
       "      <td>nao</td>\n",
       "      <td>740</td>\n",
       "      <td>1900</td>\n",
       "      <td>0.000271</td>\n",
       "      <td>0.036928</td>\n",
       "      <td>2750</td>\n",
       "      <td>26.388889</td>\n",
       "    </tr>\n",
       "    <tr>\n",
       "      <td>7</td>\n",
       "      <td>São Paulo</td>\n",
       "      <td>0.1065</td>\n",
       "      <td>4</td>\n",
       "      <td>4</td>\n",
       "      <td>4</td>\n",
       "      <td>4</td>\n",
       "      <td>sim</td>\n",
       "      <td>nao</td>\n",
       "      <td>2254</td>\n",
       "      <td>3223</td>\n",
       "      <td>0.005531</td>\n",
       "      <td>0.060561</td>\n",
       "      <td>7253</td>\n",
       "      <td>15.131455</td>\n",
       "    </tr>\n",
       "    <tr>\n",
       "      <td>8</td>\n",
       "      <td>São Paulo</td>\n",
       "      <td>0.0760</td>\n",
       "      <td>2</td>\n",
       "      <td>2</td>\n",
       "      <td>1</td>\n",
       "      <td>3</td>\n",
       "      <td>sim</td>\n",
       "      <td>sim</td>\n",
       "      <td>1000</td>\n",
       "      <td>15000</td>\n",
       "      <td>0.000797</td>\n",
       "      <td>0.282127</td>\n",
       "      <td>16440</td>\n",
       "      <td>98.684211</td>\n",
       "    </tr>\n",
       "    <tr>\n",
       "      <td>9</td>\n",
       "      <td>Rio de Janeiro</td>\n",
       "      <td>0.0175</td>\n",
       "      <td>1</td>\n",
       "      <td>1</td>\n",
       "      <td>0</td>\n",
       "      <td>2</td>\n",
       "      <td>sim</td>\n",
       "      <td>sim</td>\n",
       "      <td>590</td>\n",
       "      <td>2300</td>\n",
       "      <td>0.000112</td>\n",
       "      <td>0.044313</td>\n",
       "      <td>2955</td>\n",
       "      <td>65.714286</td>\n",
       "    </tr>\n",
       "  </tbody>\n",
       "</table>\n",
       "</div>"
      ],
      "text/plain": [
       "           Cidade    Area  Quartos  Banheiros  Vaga_estac  Andar Permite_pet  \\\n",
       "0       São Paulo  0.0350        2          1           1      7         sim   \n",
       "1       São Paulo  0.1600        4          4           0     20         sim   \n",
       "2    Porto Alegre  0.0400        1          1           1      6         sim   \n",
       "3    Porto Alegre  0.0255        2          1           0      2         sim   \n",
       "4       São Paulo  0.0125        1          1           0      1         nao   \n",
       "5       São Paulo  0.1880        3          3           7      0         sim   \n",
       "6  Rio de Janeiro  0.0360        2          1           0      7         sim   \n",
       "7       São Paulo  0.1065        4          4           4      4         sim   \n",
       "8       São Paulo  0.0760        2          2           1      3         sim   \n",
       "9  Rio de Janeiro  0.0175        1          1           0      2         sim   \n",
       "\n",
       "  Mobilia  hoa (R$)  Aluguel  Condominio  Seguro_incendio  total (R$)  \\\n",
       "0     sim      2065     3300    0.000673         0.062038        5618   \n",
       "1     nao      1200     4960    0.005579         0.093058        7973   \n",
       "2     nao      1000     2800    0.000000         0.060561        3841   \n",
       "3     nao       270     1112    0.000070         0.025111        1421   \n",
       "4     nao         0      800    0.000080         0.016248         836   \n",
       "5     nao         0     8000    0.002659         0.178730        8955   \n",
       "6     nao       740     1900    0.000271         0.036928        2750   \n",
       "7     nao      2254     3223    0.005531         0.060561        7253   \n",
       "8     sim      1000    15000    0.000797         0.282127       16440   \n",
       "9     sim       590     2300    0.000112         0.044313        2955   \n",
       "\n",
       "    preco_m2  \n",
       "0  47.142857  \n",
       "1  15.500000  \n",
       "2  35.000000  \n",
       "3  21.803922  \n",
       "4  32.000000  \n",
       "5  21.276596  \n",
       "6  26.388889  \n",
       "7  15.131455  \n",
       "8  98.684211  \n",
       "9  65.714286  "
      ]
     },
     "execution_count": 304,
     "metadata": {},
     "output_type": "execute_result"
    }
   ],
   "source": [
    "df.head(10)"
   ]
  },
  {
   "cell_type": "markdown",
   "metadata": {},
   "source": [
    "Vamos utilizar um comando chamado .corr() para checar a Correlação linear entre as variáveis deste DataFrame. Quanto mais próximo de 1, maior a indicação de lineariedade entre as variáveis, somado ao P-value, que nos indica o grau de confiabilidade da relação. Será nosso guia para escolher as melhores variáveis para a construção do modelo preditivo"
   ]
  },
  {
   "cell_type": "code",
   "execution_count": 305,
   "metadata": {},
   "outputs": [
    {
     "data": {
      "text/html": [
       "<div>\n",
       "<style scoped>\n",
       "    .dataframe tbody tr th:only-of-type {\n",
       "        vertical-align: middle;\n",
       "    }\n",
       "\n",
       "    .dataframe tbody tr th {\n",
       "        vertical-align: top;\n",
       "    }\n",
       "\n",
       "    .dataframe thead th {\n",
       "        text-align: right;\n",
       "    }\n",
       "</style>\n",
       "<table border=\"1\" class=\"dataframe\">\n",
       "  <thead>\n",
       "    <tr style=\"text-align: right;\">\n",
       "      <th></th>\n",
       "      <th>Area</th>\n",
       "      <th>Quartos</th>\n",
       "      <th>Banheiros</th>\n",
       "      <th>Vaga_estac</th>\n",
       "      <th>Andar</th>\n",
       "      <th>hoa (R$)</th>\n",
       "      <th>Aluguel</th>\n",
       "      <th>Condominio</th>\n",
       "      <th>Seguro_incendio</th>\n",
       "      <th>total (R$)</th>\n",
       "      <th>preco_m2</th>\n",
       "    </tr>\n",
       "  </thead>\n",
       "  <tbody>\n",
       "    <tr>\n",
       "      <td>Area</td>\n",
       "      <td>1.000000</td>\n",
       "      <td>0.693961</td>\n",
       "      <td>0.755601</td>\n",
       "      <td>0.690387</td>\n",
       "      <td>-0.098790</td>\n",
       "      <td>0.027073</td>\n",
       "      <td>0.664135</td>\n",
       "      <td>0.112982</td>\n",
       "      <td>0.699326</td>\n",
       "      <td>0.186236</td>\n",
       "      <td>-0.271702</td>\n",
       "    </tr>\n",
       "    <tr>\n",
       "      <td>Quartos</td>\n",
       "      <td>0.693961</td>\n",
       "      <td>1.000000</td>\n",
       "      <td>0.733880</td>\n",
       "      <td>0.617405</td>\n",
       "      <td>-0.079050</td>\n",
       "      <td>0.007130</td>\n",
       "      <td>0.541634</td>\n",
       "      <td>0.074807</td>\n",
       "      <td>0.565066</td>\n",
       "      <td>0.134459</td>\n",
       "      <td>-0.314905</td>\n",
       "    </tr>\n",
       "    <tr>\n",
       "      <td>Banheiros</td>\n",
       "      <td>0.755601</td>\n",
       "      <td>0.733880</td>\n",
       "      <td>1.000000</td>\n",
       "      <td>0.697224</td>\n",
       "      <td>0.004384</td>\n",
       "      <td>0.050311</td>\n",
       "      <td>0.668525</td>\n",
       "      <td>0.109058</td>\n",
       "      <td>0.676461</td>\n",
       "      <td>0.208321</td>\n",
       "      <td>-0.159296</td>\n",
       "    </tr>\n",
       "    <tr>\n",
       "      <td>Vaga_estac</td>\n",
       "      <td>0.690387</td>\n",
       "      <td>0.617405</td>\n",
       "      <td>0.697224</td>\n",
       "      <td>1.000000</td>\n",
       "      <td>-0.021166</td>\n",
       "      <td>0.009315</td>\n",
       "      <td>0.578169</td>\n",
       "      <td>0.098075</td>\n",
       "      <td>0.597191</td>\n",
       "      <td>0.148559</td>\n",
       "      <td>-0.146877</td>\n",
       "    </tr>\n",
       "    <tr>\n",
       "      <td>Andar</td>\n",
       "      <td>-0.098790</td>\n",
       "      <td>-0.079050</td>\n",
       "      <td>0.004384</td>\n",
       "      <td>-0.021166</td>\n",
       "      <td>1.000000</td>\n",
       "      <td>0.019867</td>\n",
       "      <td>0.073341</td>\n",
       "      <td>0.012362</td>\n",
       "      <td>0.013406</td>\n",
       "      <td>0.036321</td>\n",
       "      <td>0.229854</td>\n",
       "    </tr>\n",
       "    <tr>\n",
       "      <td>hoa (R$)</td>\n",
       "      <td>0.027073</td>\n",
       "      <td>0.007130</td>\n",
       "      <td>0.050311</td>\n",
       "      <td>0.009315</td>\n",
       "      <td>0.019867</td>\n",
       "      <td>1.000000</td>\n",
       "      <td>0.036488</td>\n",
       "      <td>0.007614</td>\n",
       "      <td>0.029532</td>\n",
       "      <td>0.955052</td>\n",
       "      <td>0.000367</td>\n",
       "    </tr>\n",
       "    <tr>\n",
       "      <td>Aluguel</td>\n",
       "      <td>0.664135</td>\n",
       "      <td>0.541634</td>\n",
       "      <td>0.668525</td>\n",
       "      <td>0.578169</td>\n",
       "      <td>0.073341</td>\n",
       "      <td>0.036488</td>\n",
       "      <td>1.000000</td>\n",
       "      <td>0.107638</td>\n",
       "      <td>0.987341</td>\n",
       "      <td>0.264408</td>\n",
       "      <td>0.274651</td>\n",
       "    </tr>\n",
       "    <tr>\n",
       "      <td>Condominio</td>\n",
       "      <td>0.112982</td>\n",
       "      <td>0.074807</td>\n",
       "      <td>0.109058</td>\n",
       "      <td>0.098075</td>\n",
       "      <td>0.012362</td>\n",
       "      <td>0.007614</td>\n",
       "      <td>0.107638</td>\n",
       "      <td>1.000000</td>\n",
       "      <td>0.105455</td>\n",
       "      <td>0.218231</td>\n",
       "      <td>0.000522</td>\n",
       "    </tr>\n",
       "    <tr>\n",
       "      <td>Seguro_incendio</td>\n",
       "      <td>0.699326</td>\n",
       "      <td>0.565066</td>\n",
       "      <td>0.676461</td>\n",
       "      <td>0.597191</td>\n",
       "      <td>0.013406</td>\n",
       "      <td>0.029532</td>\n",
       "      <td>0.987341</td>\n",
       "      <td>0.105455</td>\n",
       "      <td>1.000000</td>\n",
       "      <td>0.254836</td>\n",
       "      <td>0.228449</td>\n",
       "    </tr>\n",
       "    <tr>\n",
       "      <td>total (R$)</td>\n",
       "      <td>0.186236</td>\n",
       "      <td>0.134459</td>\n",
       "      <td>0.208321</td>\n",
       "      <td>0.148559</td>\n",
       "      <td>0.036321</td>\n",
       "      <td>0.955052</td>\n",
       "      <td>0.264408</td>\n",
       "      <td>0.218231</td>\n",
       "      <td>0.254836</td>\n",
       "      <td>1.000000</td>\n",
       "      <td>0.057888</td>\n",
       "    </tr>\n",
       "    <tr>\n",
       "      <td>preco_m2</td>\n",
       "      <td>-0.271702</td>\n",
       "      <td>-0.314905</td>\n",
       "      <td>-0.159296</td>\n",
       "      <td>-0.146877</td>\n",
       "      <td>0.229854</td>\n",
       "      <td>0.000367</td>\n",
       "      <td>0.274651</td>\n",
       "      <td>0.000522</td>\n",
       "      <td>0.228449</td>\n",
       "      <td>0.057888</td>\n",
       "      <td>1.000000</td>\n",
       "    </tr>\n",
       "  </tbody>\n",
       "</table>\n",
       "</div>"
      ],
      "text/plain": [
       "                     Area   Quartos  Banheiros  Vaga_estac     Andar  \\\n",
       "Area             1.000000  0.693961   0.755601    0.690387 -0.098790   \n",
       "Quartos          0.693961  1.000000   0.733880    0.617405 -0.079050   \n",
       "Banheiros        0.755601  0.733880   1.000000    0.697224  0.004384   \n",
       "Vaga_estac       0.690387  0.617405   0.697224    1.000000 -0.021166   \n",
       "Andar           -0.098790 -0.079050   0.004384   -0.021166  1.000000   \n",
       "hoa (R$)         0.027073  0.007130   0.050311    0.009315  0.019867   \n",
       "Aluguel          0.664135  0.541634   0.668525    0.578169  0.073341   \n",
       "Condominio       0.112982  0.074807   0.109058    0.098075  0.012362   \n",
       "Seguro_incendio  0.699326  0.565066   0.676461    0.597191  0.013406   \n",
       "total (R$)       0.186236  0.134459   0.208321    0.148559  0.036321   \n",
       "preco_m2        -0.271702 -0.314905  -0.159296   -0.146877  0.229854   \n",
       "\n",
       "                 hoa (R$)   Aluguel  Condominio  Seguro_incendio  total (R$)  \\\n",
       "Area             0.027073  0.664135    0.112982         0.699326    0.186236   \n",
       "Quartos          0.007130  0.541634    0.074807         0.565066    0.134459   \n",
       "Banheiros        0.050311  0.668525    0.109058         0.676461    0.208321   \n",
       "Vaga_estac       0.009315  0.578169    0.098075         0.597191    0.148559   \n",
       "Andar            0.019867  0.073341    0.012362         0.013406    0.036321   \n",
       "hoa (R$)         1.000000  0.036488    0.007614         0.029532    0.955052   \n",
       "Aluguel          0.036488  1.000000    0.107638         0.987341    0.264408   \n",
       "Condominio       0.007614  0.107638    1.000000         0.105455    0.218231   \n",
       "Seguro_incendio  0.029532  0.987341    0.105455         1.000000    0.254836   \n",
       "total (R$)       0.955052  0.264408    0.218231         0.254836    1.000000   \n",
       "preco_m2         0.000367  0.274651    0.000522         0.228449    0.057888   \n",
       "\n",
       "                 preco_m2  \n",
       "Area            -0.271702  \n",
       "Quartos         -0.314905  \n",
       "Banheiros       -0.159296  \n",
       "Vaga_estac      -0.146877  \n",
       "Andar            0.229854  \n",
       "hoa (R$)         0.000367  \n",
       "Aluguel          0.274651  \n",
       "Condominio       0.000522  \n",
       "Seguro_incendio  0.228449  \n",
       "total (R$)       0.057888  \n",
       "preco_m2         1.000000  "
      ]
     },
     "execution_count": 305,
     "metadata": {},
     "output_type": "execute_result"
    }
   ],
   "source": [
    "df.corr()"
   ]
  },
  {
   "cell_type": "markdown",
   "metadata": {},
   "source": [
    "Vamos checar visualmente o relacionamento linear positivo entre as variáveis que mais chamaram a atenção, utilizando regplot do Seaborn"
   ]
  },
  {
   "cell_type": "code",
   "execution_count": 306,
   "metadata": {},
   "outputs": [
    {
     "data": {
      "text/plain": [
       "(0, 47267.01496852488)"
      ]
     },
     "execution_count": 306,
     "metadata": {},
     "output_type": "execute_result"
    },
    {
     "data": {
      "image/png": "[encoded data removed]",
      "text/plain": [
       "<Figure size 432x288 with 1 Axes>"
      ]
     },
     "metadata": {
      "needs_background": "light"
     },
     "output_type": "display_data"
    }
   ],
   "source": [
    "sns.regplot(x=\"Area\", y=\"Aluguel\", data=df)\n",
    "plt.ylim(0,)"
   ]
  },
  {
   "cell_type": "markdown",
   "metadata": {},
   "source": [
    "Area do Imóvel sobe, preço do Aluguel sobe. Aparenta ser um bom preditor. Vamos para mais... "
   ]
  },
  {
   "cell_type": "code",
   "execution_count": 307,
   "metadata": {},
   "outputs": [
    {
     "data": {
      "text/plain": [
       "(0, 53177.48049632492)"
      ]
     },
     "execution_count": 307,
     "metadata": {},
     "output_type": "execute_result"
    },
    {
     "data": {
      "image/png": "[encoded data removed]",
      "text/plain": [
       "<Figure size 432x288 with 1 Axes>"
      ]
     },
     "metadata": {
      "needs_background": "light"
     },
     "output_type": "display_data"
    }
   ],
   "source": [
    "sns.regplot(x=\"Seguro_incendio\", y=\"Aluguel\", data=df)\n",
    "plt.ylim(0,)"
   ]
  },
  {
   "cell_type": "markdown",
   "metadata": {},
   "source": [
    "Testamos diveras opções. As duas melhores parecem ser o valor do Seguro de Incendio e a Area total do imóvel. No momento da formulação do problema, o valor do condominio ficou como hipotese de impactar fortemente o valor do aluguel. Porém, na análise se mostrou próximo de zero.\n",
    "\n",
    "Até então checamos a relação com informações numéricas. Agora vamos checar a relação com informações categóricas. "
   ]
  },
  {
   "cell_type": "code",
   "execution_count": 308,
   "metadata": {},
   "outputs": [
    {
     "data": {
      "text/plain": [
       "<matplotlib.axes._subplots.AxesSubplot at 0x7ff2d45bd950>"
      ]
     },
     "execution_count": 308,
     "metadata": {},
     "output_type": "execute_result"
    },
    {
     "data": {
      "image/png": "[encoded data removed]",
      "text/plain": [
       "<Figure size 432x288 with 1 Axes>"
      ]
     },
     "metadata": {
      "needs_background": "light"
     },
     "output_type": "display_data"
    }
   ],
   "source": [
    "sns.boxplot(x=\"Mobilia\", y=\"Aluguel\", data=df)"
   ]
  },
  {
   "cell_type": "markdown",
   "metadata": {},
   "source": [
    "Os imóveis mobiliados tem uma média de valores maior. Porém os sem mobilia tem diversos outliers que superam até mesmo os mobiliados. "
   ]
  },
  {
   "cell_type": "code",
   "execution_count": 309,
   "metadata": {},
   "outputs": [
    {
     "data": {
      "text/plain": [
       "<matplotlib.axes._subplots.AxesSubplot at 0x7ff2d4704a10>"
      ]
     },
     "execution_count": 309,
     "metadata": {},
     "output_type": "execute_result"
    },
    {
     "data": {
      "image/png": "[encoded data removed]",
      "text/plain": [
       "<Figure size 432x288 with 1 Axes>"
      ]
     },
     "metadata": {
      "needs_background": "light"
     },
     "output_type": "display_data"
    }
   ],
   "source": [
    "sns.boxplot(x=\"Cidade\", y=\"Aluguel\", data=df)"
   ]
  },
  {
   "cell_type": "markdown",
   "metadata": {},
   "source": [
    "Os Imóveis de São Paulo tem a maior média de valores. E também onde se concentram os maiores outliers"
   ]
  },
  {
   "cell_type": "code",
   "execution_count": 310,
   "metadata": {},
   "outputs": [
    {
     "data": {
      "text/plain": [
       "<matplotlib.axes._subplots.AxesSubplot at 0x7ff2d48293d0>"
      ]
     },
     "execution_count": 310,
     "metadata": {},
     "output_type": "execute_result"
    },
    {
     "data": {
      "image/png": "[encoded data removed]",
      "text/plain": [
       "<Figure size 432x288 with 1 Axes>"
      ]
     },
     "metadata": {
      "needs_background": "light"
     },
     "output_type": "display_data"
    }
   ],
   "source": [
    "sns.boxplot(x=\"Permite_pet\", y=\"Aluguel\", data=df)"
   ]
  },
  {
   "cell_type": "markdown",
   "metadata": {},
   "source": [
    "Imóveis que permitem pet tem uma maior variância de valores. Iremos analisar mais adiante"
   ]
  },
  {
   "cell_type": "code",
   "execution_count": 311,
   "metadata": {},
   "outputs": [
    {
     "data": {
      "text/plain": [
       "nao    8084\n",
       "sim    2605\n",
       "Name: Mobilia, dtype: int64"
      ]
     },
     "execution_count": 311,
     "metadata": {},
     "output_type": "execute_result"
    }
   ],
   "source": [
    "df['Mobilia'].value_counts()"
   ]
  },
  {
   "cell_type": "code",
   "execution_count": 312,
   "metadata": {},
   "outputs": [
    {
     "data": {
      "text/plain": [
       "São Paulo         5886\n",
       "Rio de Janeiro    1501\n",
       "Belo Horizonte    1257\n",
       "Porto Alegre      1193\n",
       "Campinas           852\n",
       "Name: Cidade, dtype: int64"
      ]
     },
     "execution_count": 312,
     "metadata": {},
     "output_type": "execute_result"
    }
   ],
   "source": [
    "df['Cidade'].value_counts()"
   ]
  },
  {
   "cell_type": "code",
   "execution_count": 313,
   "metadata": {},
   "outputs": [
    {
     "data": {
      "text/plain": [
       "sim    8313\n",
       "nao    2376\n",
       "Name: Permite_pet, dtype: int64"
      ]
     },
     "execution_count": 313,
     "metadata": {},
     "output_type": "execute_result"
    }
   ],
   "source": [
    "df['Permite_pet'].value_counts()"
   ]
  },
  {
   "cell_type": "code",
   "execution_count": 337,
   "metadata": {},
   "outputs": [
    {
     "data": {
      "text/html": [
       "<div>\n",
       "<style scoped>\n",
       "    .dataframe tbody tr th:only-of-type {\n",
       "        vertical-align: middle;\n",
       "    }\n",
       "\n",
       "    .dataframe tbody tr th {\n",
       "        vertical-align: top;\n",
       "    }\n",
       "\n",
       "    .dataframe thead th {\n",
       "        text-align: right;\n",
       "    }\n",
       "</style>\n",
       "<table border=\"1\" class=\"dataframe\">\n",
       "  <thead>\n",
       "    <tr style=\"text-align: right;\">\n",
       "      <th></th>\n",
       "      <th>Cidade</th>\n",
       "      <th>Mobilia</th>\n",
       "      <th>Permite_pet</th>\n",
       "      <th>Aluguel</th>\n",
       "    </tr>\n",
       "  </thead>\n",
       "  <tbody>\n",
       "    <tr>\n",
       "      <td>19</td>\n",
       "      <td>São Paulo</td>\n",
       "      <td>sim</td>\n",
       "      <td>sim</td>\n",
       "      <td>5767.609306</td>\n",
       "    </tr>\n",
       "    <tr>\n",
       "      <td>3</td>\n",
       "      <td>Belo Horizonte</td>\n",
       "      <td>sim</td>\n",
       "      <td>sim</td>\n",
       "      <td>5648.897436</td>\n",
       "    </tr>\n",
       "    <tr>\n",
       "      <td>18</td>\n",
       "      <td>São Paulo</td>\n",
       "      <td>sim</td>\n",
       "      <td>nao</td>\n",
       "      <td>5086.779736</td>\n",
       "    </tr>\n",
       "    <tr>\n",
       "      <td>17</td>\n",
       "      <td>São Paulo</td>\n",
       "      <td>nao</td>\n",
       "      <td>sim</td>\n",
       "      <td>4564.211550</td>\n",
       "    </tr>\n",
       "    <tr>\n",
       "      <td>15</td>\n",
       "      <td>Rio de Janeiro</td>\n",
       "      <td>sim</td>\n",
       "      <td>sim</td>\n",
       "      <td>4335.485816</td>\n",
       "    </tr>\n",
       "    <tr>\n",
       "      <td>14</td>\n",
       "      <td>Rio de Janeiro</td>\n",
       "      <td>sim</td>\n",
       "      <td>nao</td>\n",
       "      <td>3980.580645</td>\n",
       "    </tr>\n",
       "    <tr>\n",
       "      <td>1</td>\n",
       "      <td>Belo Horizonte</td>\n",
       "      <td>nao</td>\n",
       "      <td>sim</td>\n",
       "      <td>3613.729397</td>\n",
       "    </tr>\n",
       "    <tr>\n",
       "      <td>16</td>\n",
       "      <td>São Paulo</td>\n",
       "      <td>nao</td>\n",
       "      <td>nao</td>\n",
       "      <td>3418.083070</td>\n",
       "    </tr>\n",
       "    <tr>\n",
       "      <td>11</td>\n",
       "      <td>Porto Alegre</td>\n",
       "      <td>sim</td>\n",
       "      <td>sim</td>\n",
       "      <td>3267.295833</td>\n",
       "    </tr>\n",
       "    <tr>\n",
       "      <td>7</td>\n",
       "      <td>Campinas</td>\n",
       "      <td>sim</td>\n",
       "      <td>sim</td>\n",
       "      <td>3167.150000</td>\n",
       "    </tr>\n",
       "    <tr>\n",
       "      <td>0</td>\n",
       "      <td>Belo Horizonte</td>\n",
       "      <td>nao</td>\n",
       "      <td>nao</td>\n",
       "      <td>3095.235075</td>\n",
       "    </tr>\n",
       "    <tr>\n",
       "      <td>13</td>\n",
       "      <td>Rio de Janeiro</td>\n",
       "      <td>nao</td>\n",
       "      <td>sim</td>\n",
       "      <td>2926.009751</td>\n",
       "    </tr>\n",
       "    <tr>\n",
       "      <td>2</td>\n",
       "      <td>Belo Horizonte</td>\n",
       "      <td>sim</td>\n",
       "      <td>nao</td>\n",
       "      <td>2924.864407</td>\n",
       "    </tr>\n",
       "    <tr>\n",
       "      <td>12</td>\n",
       "      <td>Rio de Janeiro</td>\n",
       "      <td>nao</td>\n",
       "      <td>nao</td>\n",
       "      <td>2533.040698</td>\n",
       "    </tr>\n",
       "    <tr>\n",
       "      <td>5</td>\n",
       "      <td>Campinas</td>\n",
       "      <td>nao</td>\n",
       "      <td>sim</td>\n",
       "      <td>2371.972222</td>\n",
       "    </tr>\n",
       "    <tr>\n",
       "      <td>10</td>\n",
       "      <td>Porto Alegre</td>\n",
       "      <td>sim</td>\n",
       "      <td>nao</td>\n",
       "      <td>2296.784810</td>\n",
       "    </tr>\n",
       "    <tr>\n",
       "      <td>8</td>\n",
       "      <td>Porto Alegre</td>\n",
       "      <td>nao</td>\n",
       "      <td>nao</td>\n",
       "      <td>2275.605505</td>\n",
       "    </tr>\n",
       "    <tr>\n",
       "      <td>6</td>\n",
       "      <td>Campinas</td>\n",
       "      <td>sim</td>\n",
       "      <td>nao</td>\n",
       "      <td>2173.516129</td>\n",
       "    </tr>\n",
       "    <tr>\n",
       "      <td>9</td>\n",
       "      <td>Porto Alegre</td>\n",
       "      <td>nao</td>\n",
       "      <td>sim</td>\n",
       "      <td>2059.134641</td>\n",
       "    </tr>\n",
       "    <tr>\n",
       "      <td>4</td>\n",
       "      <td>Campinas</td>\n",
       "      <td>nao</td>\n",
       "      <td>nao</td>\n",
       "      <td>1881.720930</td>\n",
       "    </tr>\n",
       "  </tbody>\n",
       "</table>\n",
       "</div>"
      ],
      "text/plain": [
       "            Cidade Mobilia Permite_pet      Aluguel\n",
       "19       São Paulo     sim         sim  5767.609306\n",
       "3   Belo Horizonte     sim         sim  5648.897436\n",
       "18       São Paulo     sim         nao  5086.779736\n",
       "17       São Paulo     nao         sim  4564.211550\n",
       "15  Rio de Janeiro     sim         sim  4335.485816\n",
       "14  Rio de Janeiro     sim         nao  3980.580645\n",
       "1   Belo Horizonte     nao         sim  3613.729397\n",
       "16       São Paulo     nao         nao  3418.083070\n",
       "11    Porto Alegre     sim         sim  3267.295833\n",
       "7         Campinas     sim         sim  3167.150000\n",
       "0   Belo Horizonte     nao         nao  3095.235075\n",
       "13  Rio de Janeiro     nao         sim  2926.009751\n",
       "2   Belo Horizonte     sim         nao  2924.864407\n",
       "12  Rio de Janeiro     nao         nao  2533.040698\n",
       "5         Campinas     nao         sim  2371.972222\n",
       "10    Porto Alegre     sim         nao  2296.784810\n",
       "8     Porto Alegre     nao         nao  2275.605505\n",
       "6         Campinas     sim         nao  2173.516129\n",
       "9     Porto Alegre     nao         sim  2059.134641\n",
       "4         Campinas     nao         nao  1881.720930"
      ]
     },
     "execution_count": 337,
     "metadata": {},
     "output_type": "execute_result"
    }
   ],
   "source": [
    "df_filtro_grupo = df[['Cidade','Mobilia','Permite_pet','Aluguel']]\n",
    "df_agrupado = df_filtro_grupo.groupby(['Cidade','Mobilia','Permite_pet'],as_index=False).mean()\n",
    "df_agrupado.sort_values(by='Aluguel',ascending=False)"
   ]
  },
  {
   "cell_type": "markdown",
   "metadata": {},
   "source": [
    "Show. Temos um relacionamento de Preço de Aluguel X variáveis Categoricas. Podemos observar que os imóveis no topo da lista estão em SP e BH"
   ]
  },
  {
   "cell_type": "markdown",
   "metadata": {},
   "source": [
    "Agora que temos as variáveis discretas (Seguro e Area) e as Categorias (Mobilia, Permite_Pet e Cidade) pré-escolhidas. Vamos checar correlação de Pearson para as discretas e a análise de variância (ANOVA) para as categoricas, para checar a significância estatística e escolher as melhores opções para nutrir o modelo de regressão."
   ]
  },
  {
   "cell_type": "code",
   "execution_count": 338,
   "metadata": {},
   "outputs": [],
   "source": [
    "from scipy import stats"
   ]
  },
  {
   "cell_type": "markdown",
   "metadata": {},
   "source": [
    "Vamos calcular a correlação e o valor P para Seguro_incendio"
   ]
  },
  {
   "cell_type": "code",
   "execution_count": 339,
   "metadata": {},
   "outputs": [
    {
     "name": "stdout",
     "output_type": "stream",
     "text": [
      "O Coeficiente de Pearson é:  0.9873411083073933  com um valor-P de:  0.0\n"
     ]
    }
   ],
   "source": [
    "pearson_coef, p_value = stats.pearsonr(df['Seguro_incendio'], df['Aluguel'])\n",
    "print(\"O Coeficiente de Pearson é: \", pearson_coef, \" com um valor-P de: \", p_value)"
   ]
  },
  {
   "cell_type": "markdown",
   "metadata": {},
   "source": [
    "Com um valor-P menor de 0.001, A correlação entre Seguro_incendio e Aluguel é statisticamente significante, e a correlação linear é altíssima (~0.98)"
   ]
  },
  {
   "cell_type": "markdown",
   "metadata": {},
   "source": [
    "Agora, Vamos calcular a correlação e o valor P para Area"
   ]
  },
  {
   "cell_type": "code",
   "execution_count": 340,
   "metadata": {},
   "outputs": [
    {
     "name": "stdout",
     "output_type": "stream",
     "text": [
      "O Coeficiente de Pearson é:  0.6641350839339499  com um valor-P de:  0.0\n"
     ]
    }
   ],
   "source": [
    "pearson_coef, p_value = stats.pearsonr(df['Area'], df['Aluguel'])\n",
    "print(\"O Coeficiente de Pearson é: \", pearson_coef, \" com um valor-P de: \", p_value)"
   ]
  },
  {
   "cell_type": "markdown",
   "metadata": {},
   "source": [
    "Com um valor-P menor de 0.001, A correlação entre Area e Aluguel é statisticamente significante, porém a correlação linear é menor, mas ainda significante (~0.66)"
   ]
  },
  {
   "cell_type": "markdown",
   "metadata": {},
   "source": [
    "Perfeito. Confirmamos o uso das duas variaveis discretas Seguro_incendio e Area para a construcao de nosso modelo. Tendo duas variáveis já sabemos que nosos modelo será uma Regressão Linear Múltipla, ao invés de uma Regressão Simples. "
   ]
  },
  {
   "cell_type": "markdown",
   "metadata": {},
   "source": [
    "Utilizaremos agora a ANOVA (Analise de Variância) que checa a variancia entre grupos distintos para a mesma variável. Neste caso o preço de aluguel do Imóvel."
   ]
  },
  {
   "cell_type": "code",
   "execution_count": 349,
   "metadata": {},
   "outputs": [
    {
     "data": {
      "text/html": [
       "<div>\n",
       "<style scoped>\n",
       "    .dataframe tbody tr th:only-of-type {\n",
       "        vertical-align: middle;\n",
       "    }\n",
       "\n",
       "    .dataframe tbody tr th {\n",
       "        vertical-align: top;\n",
       "    }\n",
       "\n",
       "    .dataframe thead th {\n",
       "        text-align: right;\n",
       "    }\n",
       "</style>\n",
       "<table border=\"1\" class=\"dataframe\">\n",
       "  <thead>\n",
       "    <tr style=\"text-align: right;\">\n",
       "      <th></th>\n",
       "      <th>Cidade</th>\n",
       "      <th>Aluguel</th>\n",
       "    </tr>\n",
       "  </thead>\n",
       "  <tbody>\n",
       "    <tr>\n",
       "      <td>0</td>\n",
       "      <td>São Paulo</td>\n",
       "      <td>3300</td>\n",
       "    </tr>\n",
       "    <tr>\n",
       "      <td>1</td>\n",
       "      <td>São Paulo</td>\n",
       "      <td>4960</td>\n",
       "    </tr>\n",
       "    <tr>\n",
       "      <td>2</td>\n",
       "      <td>Porto Alegre</td>\n",
       "      <td>2800</td>\n",
       "    </tr>\n",
       "    <tr>\n",
       "      <td>3</td>\n",
       "      <td>Porto Alegre</td>\n",
       "      <td>1112</td>\n",
       "    </tr>\n",
       "    <tr>\n",
       "      <td>6</td>\n",
       "      <td>Rio de Janeiro</td>\n",
       "      <td>1900</td>\n",
       "    </tr>\n",
       "    <tr>\n",
       "      <td>9</td>\n",
       "      <td>Rio de Janeiro</td>\n",
       "      <td>2300</td>\n",
       "    </tr>\n",
       "    <tr>\n",
       "      <td>11</td>\n",
       "      <td>Campinas</td>\n",
       "      <td>580</td>\n",
       "    </tr>\n",
       "    <tr>\n",
       "      <td>15</td>\n",
       "      <td>Campinas</td>\n",
       "      <td>8000</td>\n",
       "    </tr>\n",
       "    <tr>\n",
       "      <td>21</td>\n",
       "      <td>Belo Horizonte</td>\n",
       "      <td>2690</td>\n",
       "    </tr>\n",
       "    <tr>\n",
       "      <td>27</td>\n",
       "      <td>Belo Horizonte</td>\n",
       "      <td>1500</td>\n",
       "    </tr>\n",
       "  </tbody>\n",
       "</table>\n",
       "</div>"
      ],
      "text/plain": [
       "            Cidade  Aluguel\n",
       "0        São Paulo     3300\n",
       "1        São Paulo     4960\n",
       "2     Porto Alegre     2800\n",
       "3     Porto Alegre     1112\n",
       "6   Rio de Janeiro     1900\n",
       "9   Rio de Janeiro     2300\n",
       "11        Campinas      580\n",
       "15        Campinas     8000\n",
       "21  Belo Horizonte     2690\n",
       "27  Belo Horizonte     1500"
      ]
     },
     "execution_count": 349,
     "metadata": {},
     "output_type": "execute_result"
    }
   ],
   "source": [
    "agrupado_cidade = df[['Cidade', 'Aluguel']].groupby(['Cidade'])\n",
    "agrupado_cidade.head(2)"
   ]
  },
  {
   "cell_type": "code",
   "execution_count": 354,
   "metadata": {},
   "outputs": [
    {
     "name": "stdout",
     "output_type": "stream",
     "text": [
      "ANOVA results: F= 208.46535582456877 , P = 1.7239052351863267e-172\n"
     ]
    }
   ],
   "source": [
    "f_val, p_val = stats.f_oneway(agrupado_cidade.get_group('São Paulo')['Aluguel'], \n",
    "                              agrupado_cidade.get_group('Porto Alegre')['Aluguel'], \n",
    "                              agrupado_cidade.get_group('Rio de Janeiro')['Aluguel'],\n",
    "                              agrupado_cidade.get_group('Belo Horizonte')['Aluguel'],\n",
    "                              agrupado_cidade.get_group('Campinas')['Aluguel'])  \n",
    " \n",
    "print( \"ANOVA results: F=\", f_val, \", P =\", p_val)  "
   ]
  },
  {
   "cell_type": "markdown",
   "metadata": {},
   "source": [
    "Um valor F alto significa alto grau de correlação entre cidade e valor de Aluguel. E um valor-P baixo demonstra significancia estatistica. Vejamos para os próximos grupos"
   ]
  },
  {
   "cell_type": "code",
   "execution_count": 350,
   "metadata": {},
   "outputs": [
    {
     "data": {
      "text/html": [
       "<div>\n",
       "<style scoped>\n",
       "    .dataframe tbody tr th:only-of-type {\n",
       "        vertical-align: middle;\n",
       "    }\n",
       "\n",
       "    .dataframe tbody tr th {\n",
       "        vertical-align: top;\n",
       "    }\n",
       "\n",
       "    .dataframe thead th {\n",
       "        text-align: right;\n",
       "    }\n",
       "</style>\n",
       "<table border=\"1\" class=\"dataframe\">\n",
       "  <thead>\n",
       "    <tr style=\"text-align: right;\">\n",
       "      <th></th>\n",
       "      <th>Mobilia</th>\n",
       "      <th>Aluguel</th>\n",
       "    </tr>\n",
       "  </thead>\n",
       "  <tbody>\n",
       "    <tr>\n",
       "      <td>0</td>\n",
       "      <td>sim</td>\n",
       "      <td>3300</td>\n",
       "    </tr>\n",
       "    <tr>\n",
       "      <td>1</td>\n",
       "      <td>nao</td>\n",
       "      <td>4960</td>\n",
       "    </tr>\n",
       "    <tr>\n",
       "      <td>2</td>\n",
       "      <td>nao</td>\n",
       "      <td>2800</td>\n",
       "    </tr>\n",
       "    <tr>\n",
       "      <td>8</td>\n",
       "      <td>sim</td>\n",
       "      <td>15000</td>\n",
       "    </tr>\n",
       "  </tbody>\n",
       "</table>\n",
       "</div>"
      ],
      "text/plain": [
       "  Mobilia  Aluguel\n",
       "0     sim     3300\n",
       "1     nao     4960\n",
       "2     nao     2800\n",
       "8     sim    15000"
      ]
     },
     "execution_count": 350,
     "metadata": {},
     "output_type": "execute_result"
    }
   ],
   "source": [
    "agrupado_mobilia = df[['Mobilia', 'Aluguel']].groupby(['Mobilia'])\n",
    "agrupado_mobilia.head(2)"
   ]
  },
  {
   "cell_type": "code",
   "execution_count": 356,
   "metadata": {},
   "outputs": [
    {
     "name": "stdout",
     "output_type": "stream",
     "text": [
      "ANOVA results: F= 295.7532181802769 , P = 2.0966351331620316e-65\n"
     ]
    }
   ],
   "source": [
    "f_val, p_val = stats.f_oneway(agrupado_mobilia.get_group('sim')['Aluguel'], \n",
    "                              agrupado_mobilia.get_group('nao')['Aluguel'], \n",
    "                              )  \n",
    " \n",
    "print( \"ANOVA results: F=\", f_val, \", P =\", p_val)  "
   ]
  },
  {
   "cell_type": "code",
   "execution_count": 351,
   "metadata": {},
   "outputs": [
    {
     "data": {
      "text/html": [
       "<div>\n",
       "<style scoped>\n",
       "    .dataframe tbody tr th:only-of-type {\n",
       "        vertical-align: middle;\n",
       "    }\n",
       "\n",
       "    .dataframe tbody tr th {\n",
       "        vertical-align: top;\n",
       "    }\n",
       "\n",
       "    .dataframe thead th {\n",
       "        text-align: right;\n",
       "    }\n",
       "</style>\n",
       "<table border=\"1\" class=\"dataframe\">\n",
       "  <thead>\n",
       "    <tr style=\"text-align: right;\">\n",
       "      <th></th>\n",
       "      <th>Permite_pet</th>\n",
       "      <th>Aluguel</th>\n",
       "    </tr>\n",
       "  </thead>\n",
       "  <tbody>\n",
       "    <tr>\n",
       "      <td>0</td>\n",
       "      <td>sim</td>\n",
       "      <td>3300</td>\n",
       "    </tr>\n",
       "    <tr>\n",
       "      <td>1</td>\n",
       "      <td>sim</td>\n",
       "      <td>4960</td>\n",
       "    </tr>\n",
       "    <tr>\n",
       "      <td>4</td>\n",
       "      <td>nao</td>\n",
       "      <td>800</td>\n",
       "    </tr>\n",
       "    <tr>\n",
       "      <td>17</td>\n",
       "      <td>nao</td>\n",
       "      <td>3500</td>\n",
       "    </tr>\n",
       "  </tbody>\n",
       "</table>\n",
       "</div>"
      ],
      "text/plain": [
       "   Permite_pet  Aluguel\n",
       "0          sim     3300\n",
       "1          sim     4960\n",
       "4          nao      800\n",
       "17         nao     3500"
      ]
     },
     "execution_count": 351,
     "metadata": {},
     "output_type": "execute_result"
    }
   ],
   "source": [
    "agrupado_pet = df[['Permite_pet', 'Aluguel']].groupby(['Permite_pet'])\n",
    "agrupado_pet.head(2)"
   ]
  },
  {
   "cell_type": "code",
   "execution_count": 357,
   "metadata": {},
   "outputs": [
    {
     "name": "stdout",
     "output_type": "stream",
     "text": [
      "ANOVA results: F= 49.16831817313429 , P = 2.491053746830355e-12\n"
     ]
    }
   ],
   "source": [
    "f_val, p_val = stats.f_oneway(agrupado_pet.get_group('sim')['Aluguel'], \n",
    "                              agrupado_pet.get_group('nao')['Aluguel'], \n",
    "                              )  \n",
    " \n",
    "print( \"ANOVA results: F=\", f_val, \", P =\", p_val) "
   ]
  },
  {
   "cell_type": "markdown",
   "metadata": {},
   "source": [
    "Com este estudo pudemos compreender melhor quais variáveis utilizaremos em nosso modelo:\n",
    "\n",
    "* Discretas:\n",
    "    - Seguro Incendio\n",
    "    - Area\n",
    "    \n",
    "* Categoricas:\n",
    "    - Cidade\n",
    "    - Mobilia\n"
   ]
  },
  {
   "cell_type": "code",
   "execution_count": 359,
   "metadata": {},
   "outputs": [],
   "source": [
    "from sklearn.linear_model import LinearRegression"
   ]
  },
  {
   "cell_type": "markdown",
   "metadata": {},
   "source": [
    "Vamos iniciar a construção do Modelo. Utilizando os parâmetros discretos da análise anterior, iniciando um objeto Regressão Linear"
   ]
  },
  {
   "cell_type": "code",
   "execution_count": 360,
   "metadata": {},
   "outputs": [
    {
     "data": {
      "text/plain": [
       "LinearRegression(copy_X=True, fit_intercept=True, n_jobs=None, normalize=False)"
      ]
     },
     "execution_count": 360,
     "metadata": {},
     "output_type": "execute_result"
    }
   ],
   "source": [
    "lm = LinearRegression()\n",
    "lm"
   ]
  },
  {
   "cell_type": "markdown",
   "metadata": {},
   "source": [
    "Vamos associar as variáveis necessárias aos parâmetros da função"
   ]
  },
  {
   "cell_type": "code",
   "execution_count": 372,
   "metadata": {},
   "outputs": [],
   "source": [
    "#Normalmente se usa a letra X para os parâmetros independentes, porém vou deixá-lo em aberto. \n",
    "#Caso haja a necessidade de testar Regressão Simples\n",
    "\n",
    "Y = df['Aluguel']\n",
    "Z = df[['Area','Seguro_incendio']]"
   ]
  },
  {
   "cell_type": "code",
   "execution_count": 373,
   "metadata": {},
   "outputs": [
    {
     "data": {
      "text/plain": [
       "LinearRegression(copy_X=True, fit_intercept=True, n_jobs=None, normalize=False)"
      ]
     },
     "execution_count": 373,
     "metadata": {},
     "output_type": "execute_result"
    }
   ],
   "source": [
    "lm.fit(Z,df['Aluguel'])"
   ]
  },
  {
   "cell_type": "code",
   "execution_count": 376,
   "metadata": {},
   "outputs": [
    {
     "data": {
      "text/plain": [
       "188.9413031085105"
      ]
     },
     "execution_count": 376,
     "metadata": {},
     "output_type": "execute_result"
    }
   ],
   "source": [
    "lm.intercept_"
   ]
  },
  {
   "cell_type": "code",
   "execution_count": 377,
   "metadata": {},
   "outputs": [
    {
     "data": {
      "text/plain": [
       "array([-2615.55789839, 49436.59332982])"
      ]
     },
     "execution_count": 377,
     "metadata": {},
     "output_type": "execute_result"
    }
   ],
   "source": [
    "lm.coef_"
   ]
  },
  {
   "cell_type": "markdown",
   "metadata": {},
   "source": [
    "Com a aplicação do Modelo. Temos como produto o Intercept e o Coef. Que são as constantes aplicadas na fórmula da regressão. \n",
    "\n",
    "$$\n",
    "Yhat = a + b_1 X_1 + b_2 X_2 + b_3 X_3 + b_4 X_4\n",
    "$$\n",
    "\n",
    "ou seja: Y estimado = intercpet + coef * variável_independente(Area) + coef * variável_independente(Seguro_incendio)\n"
   ]
  },
  {
   "cell_type": "code",
   "execution_count": 382,
   "metadata": {},
   "outputs": [],
   "source": [
    "Y_hat = lm.predict(Z)"
   ]
  },
  {
   "cell_type": "markdown",
   "metadata": {},
   "source": [
    "Vamos analisar de maneira gráfica. E comparar os valores apurados com os valores reais. "
   ]
  },
  {
   "cell_type": "markdown",
   "metadata": {},
   "source": []
  },
  {
   "cell_type": "code",
   "execution_count": 392,
   "metadata": {},
   "outputs": [
    {
     "data": {
      "image/png": "[encoded data removed]",
      "text/plain": [
       "<Figure size 864x720 with 1 Axes>"
      ]
     },
     "metadata": {
      "needs_background": "light"
     },
     "output_type": "display_data"
    }
   ],
   "source": [
    "width = 12\n",
    "height = 10\n",
    "\n",
    "plt.figure(figsize=(width, height))\n",
    "\n",
    "\n",
    "ax1 = sns.distplot(df['Aluguel'], hist=False, color=\"r\", label=\"Valor Atual\")\n",
    "sns.distplot(Y_hat, hist=False, color=\"b\", label=\"Valor Predição\" , ax=ax1)\n",
    "\n",
    "\n",
    "plt.title('Valores Atual vs Predição para Preço de Aluguel')\n",
    "plt.xlabel('Preço (R$)')\n",
    "plt.ylabel('Proporção')\n",
    "\n",
    "plt.show()\n",
    "plt.close()"
   ]
  },
  {
   "cell_type": "markdown",
   "metadata": {},
   "source": [
    "<p>Nosso modelo visualmente está com uma acurácia muito boa!, Porém vamos aplicar técnicas estatísticas para medir de maneira mais quantitativa nossos resultados!.</p>\n",
    "\n",
    "<p>Duas técnicas muito usadas para determinar a acurácia de um modelo em Estatística são:</p>\n",
    "<ul>\n",
    "    <li><b>R^2 / R-quadrado</b></li>\n",
    "    <li><b>Erro Quadrado Médio (MSE)</b></li>\n",
    "</ul>\n",
    "    \n",
    "<b>R-Quadrado</b>\n",
    "\n",
    "<p>R quadrado, também conhecido como coeficiente de determinação, é uma medida que indica o quão próximo os dados estão da linha de regressão, similar ao desvio padrão.</p>\n",
    "    \n",
    "<p>O valor do R quadrado é o percentual de variação da variável (y) trazida pelo modelo linear.</p>\n",
    "\n",
    "\n",
    "\n",
    "<b>Erro Quadrado Médio (MSE)</b>\n",
    "\n",
    "<p>O Erro quadrado médio, como o nome diz, mede a média dos R Quadrados, que é, a diferença entre o valor atual (y) e o valor estimado (ŷ).</p>"
   ]
  },
  {
   "cell_type": "code",
   "execution_count": 390,
   "metadata": {},
   "outputs": [
    {
     "name": "stdout",
     "output_type": "stream",
     "text": [
      "O R quadrado é:  0.9762001503847686\n"
     ]
    }
   ],
   "source": [
    "lm.fit(Z, df['Aluguel'])\n",
    "\n",
    "print('O R quadrado é: ', lm.score(Z, df['Aluguel']))"
   ]
  },
  {
   "cell_type": "markdown",
   "metadata": {},
   "source": [
    "* Podemos afirmar que 97% dos preços de aluguel são representandos pelo nosso modelo.\n",
    "\n",
    "Um outro exercício que poderia ser feito é criar outros modelos, escolhendo outras de nossas variáveis mapeadas e checar qual modelo tem o R Quadrado mais alto e o MSE mais baixo. Pois podemos observar que para imóveis com valores mais elevados nosso modelo tem uma distorção. \n",
    "\n",
    "Este passo pode ser realizado juntamento com o refinamento do modelo, antes de ser colocado em produção. Onde os dados são separados em dados de teste e dados de treinamento, e funções como a cross_val_predict do sklearn.model_selection ajudam a prever qual o melhor modelo a ser utilizado, junto com diversas simulações de hyperparametro alfa e etc.\n",
    "\n",
    "\n"
   ]
  },
  {
   "cell_type": "markdown",
   "metadata": {},
   "source": [
    "Todos estes passos e ferramentas estatística são essenciais, e ajudam o Cientista de Dados a escolher o melhor modelo estatístico para qualquer análise de dados a ser realizada. Pois decisões importantes são tomadas com base em uma interpretação correta dos dados."
   ]
  },
  {
   "cell_type": "code",
   "execution_count": null,
   "metadata": {},
   "outputs": [],
   "source": []
  }
 ],
 "metadata": {
  "kernelspec": {
   "display_name": "Python 3.7.4 64-bit (conda)",
   "language": "python",
   "name": "python37464bitcondaec9d4c9be39d409998044a5a4026abc3"
  },
  "language_info": {
   "codemirror_mode": {
    "name": "ipython",
    "version": 3
   },
   "file_extension": ".py",
   "mimetype": "text/x-python",
   "name": "python",
   "nbconvert_exporter": "python",
   "pygments_lexer": "ipython3",
   "version": "3.7.4"
  }
 },
 "nbformat": 4,
 "nbformat_minor": 2
}
