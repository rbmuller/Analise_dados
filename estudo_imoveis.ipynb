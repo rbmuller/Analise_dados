{
 "cells": [
  {
   "cell_type": "markdown",
   "metadata": {},
   "source": [
    "# Análise de dados em Oferta de imóveis residenciais para locação no Brasil. \n",
    "\n",
    "Dataset público do Kaggle com 10.692 Imóveis em 5 cidades diferentes. Atualizado em Maio de 2020 \n"
   ]
  },
  {
   "cell_type": "code",
   "execution_count": 2,
   "metadata": {},
   "outputs": [
    {
     "ename": "SyntaxError",
     "evalue": "invalid syntax (<ipython-input-2-d1758c90a116>, line 2)",
     "output_type": "error",
     "traceback": [
      "\u001b[0;36m  File \u001b[0;32m\"<ipython-input-2-d1758c90a116>\"\u001b[0;36m, line \u001b[0;32m2\u001b[0m\n\u001b[0;31m    pip install missingno\u001b[0m\n\u001b[0m              ^\u001b[0m\n\u001b[0;31mSyntaxError\u001b[0m\u001b[0;31m:\u001b[0m invalid syntax\n"
     ]
    }
   ],
   "source": [
    "#Instalamos o pacote para manejar visualmente dados faltantes \n",
    "pip install missingno"
   ]
  },
  {
   "cell_type": "code",
   "execution_count": 3,
   "metadata": {},
   "outputs": [],
   "source": [
    "#importamos as principais biblitecas para esta analise \n",
    "\n",
    "import numpy as np\n",
    "import pandas as pd\n",
    "import seaborn as sns\n",
    "import missingno as msno"
   ]
  },
  {
   "cell_type": "markdown",
   "metadata": {},
   "source": [
    "Fazemos o Download do dataset e carregamento em um Pandas Dataframe "
   ]
  },
  {
   "cell_type": "code",
   "execution_count": 4,
   "metadata": {},
   "outputs": [],
   "source": [
    "df = pd.read_csv('houses_to_rent_v2.csv',sep=',')"
   ]
  },
  {
   "cell_type": "markdown",
   "metadata": {},
   "source": [
    "Aqui fazemos uma checagem amostral dos dados, para checar se existe alguma inconsistencia em nome de coluna, quais sao as informações que dispomos e etc"
   ]
  },
  {
   "cell_type": "code",
   "execution_count": 5,
   "metadata": {
    "scrolled": true
   },
   "outputs": [
    {
     "data": {
      "text/html": [
       "<div>\n",
       "<style scoped>\n",
       "    .dataframe tbody tr th:only-of-type {\n",
       "        vertical-align: middle;\n",
       "    }\n",
       "\n",
       "    .dataframe tbody tr th {\n",
       "        vertical-align: top;\n",
       "    }\n",
       "\n",
       "    .dataframe thead th {\n",
       "        text-align: right;\n",
       "    }\n",
       "</style>\n",
       "<table border=\"1\" class=\"dataframe\">\n",
       "  <thead>\n",
       "    <tr style=\"text-align: right;\">\n",
       "      <th></th>\n",
       "      <th>city</th>\n",
       "      <th>area</th>\n",
       "      <th>rooms</th>\n",
       "      <th>bathroom</th>\n",
       "      <th>parking spaces</th>\n",
       "      <th>floor</th>\n",
       "      <th>animal</th>\n",
       "      <th>furniture</th>\n",
       "      <th>hoa (R$)</th>\n",
       "      <th>rent amount (R$)</th>\n",
       "      <th>property tax (R$)</th>\n",
       "      <th>fire insurance (R$)</th>\n",
       "      <th>total (R$)</th>\n",
       "    </tr>\n",
       "  </thead>\n",
       "  <tbody>\n",
       "    <tr>\n",
       "      <td>0</td>\n",
       "      <td>São Paulo</td>\n",
       "      <td>70</td>\n",
       "      <td>2</td>\n",
       "      <td>1</td>\n",
       "      <td>1</td>\n",
       "      <td>7</td>\n",
       "      <td>acept</td>\n",
       "      <td>furnished</td>\n",
       "      <td>2065</td>\n",
       "      <td>3300</td>\n",
       "      <td>211</td>\n",
       "      <td>42</td>\n",
       "      <td>5618</td>\n",
       "    </tr>\n",
       "    <tr>\n",
       "      <td>1</td>\n",
       "      <td>São Paulo</td>\n",
       "      <td>320</td>\n",
       "      <td>4</td>\n",
       "      <td>4</td>\n",
       "      <td>0</td>\n",
       "      <td>20</td>\n",
       "      <td>acept</td>\n",
       "      <td>not furnished</td>\n",
       "      <td>1200</td>\n",
       "      <td>4960</td>\n",
       "      <td>1750</td>\n",
       "      <td>63</td>\n",
       "      <td>7973</td>\n",
       "    </tr>\n",
       "    <tr>\n",
       "      <td>2</td>\n",
       "      <td>Porto Alegre</td>\n",
       "      <td>80</td>\n",
       "      <td>1</td>\n",
       "      <td>1</td>\n",
       "      <td>1</td>\n",
       "      <td>6</td>\n",
       "      <td>acept</td>\n",
       "      <td>not furnished</td>\n",
       "      <td>1000</td>\n",
       "      <td>2800</td>\n",
       "      <td>0</td>\n",
       "      <td>41</td>\n",
       "      <td>3841</td>\n",
       "    </tr>\n",
       "    <tr>\n",
       "      <td>3</td>\n",
       "      <td>Porto Alegre</td>\n",
       "      <td>51</td>\n",
       "      <td>2</td>\n",
       "      <td>1</td>\n",
       "      <td>0</td>\n",
       "      <td>2</td>\n",
       "      <td>acept</td>\n",
       "      <td>not furnished</td>\n",
       "      <td>270</td>\n",
       "      <td>1112</td>\n",
       "      <td>22</td>\n",
       "      <td>17</td>\n",
       "      <td>1421</td>\n",
       "    </tr>\n",
       "    <tr>\n",
       "      <td>4</td>\n",
       "      <td>São Paulo</td>\n",
       "      <td>25</td>\n",
       "      <td>1</td>\n",
       "      <td>1</td>\n",
       "      <td>0</td>\n",
       "      <td>1</td>\n",
       "      <td>not acept</td>\n",
       "      <td>not furnished</td>\n",
       "      <td>0</td>\n",
       "      <td>800</td>\n",
       "      <td>25</td>\n",
       "      <td>11</td>\n",
       "      <td>836</td>\n",
       "    </tr>\n",
       "    <tr>\n",
       "      <td>5</td>\n",
       "      <td>São Paulo</td>\n",
       "      <td>376</td>\n",
       "      <td>3</td>\n",
       "      <td>3</td>\n",
       "      <td>7</td>\n",
       "      <td>-</td>\n",
       "      <td>acept</td>\n",
       "      <td>not furnished</td>\n",
       "      <td>0</td>\n",
       "      <td>8000</td>\n",
       "      <td>834</td>\n",
       "      <td>121</td>\n",
       "      <td>8955</td>\n",
       "    </tr>\n",
       "    <tr>\n",
       "      <td>6</td>\n",
       "      <td>Rio de Janeiro</td>\n",
       "      <td>72</td>\n",
       "      <td>2</td>\n",
       "      <td>1</td>\n",
       "      <td>0</td>\n",
       "      <td>7</td>\n",
       "      <td>acept</td>\n",
       "      <td>not furnished</td>\n",
       "      <td>740</td>\n",
       "      <td>1900</td>\n",
       "      <td>85</td>\n",
       "      <td>25</td>\n",
       "      <td>2750</td>\n",
       "    </tr>\n",
       "    <tr>\n",
       "      <td>7</td>\n",
       "      <td>São Paulo</td>\n",
       "      <td>213</td>\n",
       "      <td>4</td>\n",
       "      <td>4</td>\n",
       "      <td>4</td>\n",
       "      <td>4</td>\n",
       "      <td>acept</td>\n",
       "      <td>not furnished</td>\n",
       "      <td>2254</td>\n",
       "      <td>3223</td>\n",
       "      <td>1735</td>\n",
       "      <td>41</td>\n",
       "      <td>7253</td>\n",
       "    </tr>\n",
       "    <tr>\n",
       "      <td>8</td>\n",
       "      <td>São Paulo</td>\n",
       "      <td>152</td>\n",
       "      <td>2</td>\n",
       "      <td>2</td>\n",
       "      <td>1</td>\n",
       "      <td>3</td>\n",
       "      <td>acept</td>\n",
       "      <td>furnished</td>\n",
       "      <td>1000</td>\n",
       "      <td>15000</td>\n",
       "      <td>250</td>\n",
       "      <td>191</td>\n",
       "      <td>16440</td>\n",
       "    </tr>\n",
       "    <tr>\n",
       "      <td>9</td>\n",
       "      <td>Rio de Janeiro</td>\n",
       "      <td>35</td>\n",
       "      <td>1</td>\n",
       "      <td>1</td>\n",
       "      <td>0</td>\n",
       "      <td>2</td>\n",
       "      <td>acept</td>\n",
       "      <td>furnished</td>\n",
       "      <td>590</td>\n",
       "      <td>2300</td>\n",
       "      <td>35</td>\n",
       "      <td>30</td>\n",
       "      <td>2955</td>\n",
       "    </tr>\n",
       "  </tbody>\n",
       "</table>\n",
       "</div>"
      ],
      "text/plain": [
       "             city  area  rooms  bathroom  parking spaces floor     animal  \\\n",
       "0       São Paulo    70      2         1               1     7      acept   \n",
       "1       São Paulo   320      4         4               0    20      acept   \n",
       "2    Porto Alegre    80      1         1               1     6      acept   \n",
       "3    Porto Alegre    51      2         1               0     2      acept   \n",
       "4       São Paulo    25      1         1               0     1  not acept   \n",
       "5       São Paulo   376      3         3               7     -      acept   \n",
       "6  Rio de Janeiro    72      2         1               0     7      acept   \n",
       "7       São Paulo   213      4         4               4     4      acept   \n",
       "8       São Paulo   152      2         2               1     3      acept   \n",
       "9  Rio de Janeiro    35      1         1               0     2      acept   \n",
       "\n",
       "       furniture  hoa (R$)  rent amount (R$)  property tax (R$)  \\\n",
       "0      furnished      2065              3300                211   \n",
       "1  not furnished      1200              4960               1750   \n",
       "2  not furnished      1000              2800                  0   \n",
       "3  not furnished       270              1112                 22   \n",
       "4  not furnished         0               800                 25   \n",
       "5  not furnished         0              8000                834   \n",
       "6  not furnished       740              1900                 85   \n",
       "7  not furnished      2254              3223               1735   \n",
       "8      furnished      1000             15000                250   \n",
       "9      furnished       590              2300                 35   \n",
       "\n",
       "   fire insurance (R$)  total (R$)  \n",
       "0                   42        5618  \n",
       "1                   63        7973  \n",
       "2                   41        3841  \n",
       "3                   17        1421  \n",
       "4                   11         836  \n",
       "5                  121        8955  \n",
       "6                   25        2750  \n",
       "7                   41        7253  \n",
       "8                  191       16440  \n",
       "9                   30        2955  "
      ]
     },
     "execution_count": 5,
     "metadata": {},
     "output_type": "execute_result"
    }
   ],
   "source": [
    "df.head(10)"
   ]
  },
  {
   "cell_type": "markdown",
   "metadata": {},
   "source": [
    "Percebendo que os nomes estão em inglês, podemos trocar para Português e checar se os valores estão em formato apropriado para análise."
   ]
  },
  {
   "cell_type": "code",
   "execution_count": 6,
   "metadata": {},
   "outputs": [],
   "source": [
    "colunas = ['Cidade','Area','Quartos','Banheiros','Vaga_estac','Andar',\n",
    "           'Permite_pet','Mobilia','hoa (R$)','Aluguel','Condominio',\n",
    "           'Seguro_incendio','total (R$)']\n",
    "\n",
    "df.columns = colunas"
   ]
  },
  {
   "cell_type": "code",
   "execution_count": 7,
   "metadata": {
    "scrolled": true
   },
   "outputs": [
    {
     "name": "stdout",
     "output_type": "stream",
     "text": [
      "Cidade             object\n",
      "Area                int64\n",
      "Quartos             int64\n",
      "Banheiros           int64\n",
      "Vaga_estac          int64\n",
      "Andar              object\n",
      "Permite_pet        object\n",
      "Mobilia            object\n",
      "hoa (R$)            int64\n",
      "Aluguel             int64\n",
      "Condominio          int64\n",
      "Seguro_incendio     int64\n",
      "total (R$)          int64\n",
      "dtype: object\n"
     ]
    }
   ],
   "source": [
    "print(df.dtypes)"
   ]
  },
  {
   "cell_type": "markdown",
   "metadata": {},
   "source": [
    "Existem alguns dados categorios, vamos analisar mais afundo"
   ]
  },
  {
   "cell_type": "code",
   "execution_count": 8,
   "metadata": {},
   "outputs": [
    {
     "name": "stdout",
     "output_type": "stream",
     "text": [
      "Nome da variável: Cidade \n",
      "Contagem de valores: \n",
      " São Paulo         5887\n",
      "Rio de Janeiro    1501\n",
      "Belo Horizonte    1258\n",
      "Porto Alegre      1193\n",
      "Campinas           853\n",
      "Name: Cidade, dtype: int64\n",
      "\n",
      "Nome da variável: Area \n",
      "Contagem de valores: \n",
      " 50     334\n",
      "70     329\n",
      "60     297\n",
      "100    253\n",
      "80     253\n",
      "      ... \n",
      "434      1\n",
      "418      1\n",
      "394      1\n",
      "354      1\n",
      "458      1\n",
      "Name: Area, Length: 517, dtype: int64\n",
      "\n",
      "Nome da variável: Quartos \n",
      "Contagem de valores: \n",
      " 3     3269\n",
      "2     2975\n",
      "1     2454\n",
      "4     1586\n",
      "5      288\n",
      "6       68\n",
      "7       36\n",
      "8       11\n",
      "10       3\n",
      "13       1\n",
      "9        1\n",
      "Name: Quartos, dtype: int64\n",
      "\n",
      "Nome da variável: Banheiros \n",
      "Contagem de valores: \n",
      " 1     4301\n",
      "2     2910\n",
      "3     1474\n",
      "4     1111\n",
      "5      578\n",
      "6      215\n",
      "7       85\n",
      "8       11\n",
      "9        4\n",
      "10       3\n",
      "Name: Banheiros, dtype: int64\n",
      "\n",
      "Nome da variável: Vaga_estac \n",
      "Contagem de valores: \n",
      " 1     3630\n",
      "0     2683\n",
      "2     2070\n",
      "3      968\n",
      "4      789\n",
      "5      230\n",
      "6      163\n",
      "8      123\n",
      "7       33\n",
      "10       2\n",
      "12       1\n",
      "Name: Vaga_estac, dtype: int64\n",
      "\n",
      "Nome da variável: Andar \n",
      "Contagem de valores: \n",
      " -      2461\n",
      "1      1081\n",
      "2       985\n",
      "3       931\n",
      "4       748\n",
      "5       600\n",
      "6       539\n",
      "7       497\n",
      "8       490\n",
      "9       369\n",
      "10      357\n",
      "11      303\n",
      "12      257\n",
      "13      200\n",
      "14      170\n",
      "15      147\n",
      "16      109\n",
      "17       96\n",
      "18       75\n",
      "19       53\n",
      "20       44\n",
      "21       42\n",
      "23       25\n",
      "25       25\n",
      "22       24\n",
      "26       20\n",
      "24       19\n",
      "27        8\n",
      "28        6\n",
      "29        5\n",
      "32        2\n",
      "35        1\n",
      "46        1\n",
      "51        1\n",
      "301       1\n",
      "Name: Andar, dtype: int64\n",
      "\n",
      "Nome da variável: Permite_pet \n",
      "Contagem de valores: \n",
      " acept        8316\n",
      "not acept    2376\n",
      "Name: Permite_pet, dtype: int64\n",
      "\n",
      "Nome da variável: Mobilia \n",
      "Contagem de valores: \n",
      " not furnished    8086\n",
      "furnished        2606\n",
      "Name: Mobilia, dtype: int64\n",
      "\n",
      "Nome da variável: hoa (R$) \n",
      "Contagem de valores: \n",
      " 0       2373\n",
      "400      177\n",
      "300      168\n",
      "500      164\n",
      "600      141\n",
      "        ... \n",
      "1685       1\n",
      "3756       1\n",
      "187        1\n",
      "171        1\n",
      "1907       1\n",
      "Name: hoa (R$), Length: 1679, dtype: int64\n",
      "\n",
      "Nome da variável: Aluguel \n",
      "Contagem de valores: \n",
      " 2500     258\n",
      "2000     244\n",
      "1200     237\n",
      "3000     235\n",
      "15000    231\n",
      "        ... \n",
      "1268       1\n",
      "5350       1\n",
      "1236       1\n",
      "1196       1\n",
      "4130       1\n",
      "Name: Aluguel, Length: 1195, dtype: int64\n",
      "\n",
      "Nome da variável: Condominio \n",
      "Contagem de valores: \n",
      " 0       1596\n",
      "100      181\n",
      "50       171\n",
      "84       145\n",
      "250      131\n",
      "        ... \n",
      "1835       1\n",
      "1747       1\n",
      "1595       1\n",
      "1531       1\n",
      "1035       1\n",
      "Name: Condominio, Length: 1243, dtype: int64\n",
      "\n",
      "Nome da variável: Seguro_incendio \n",
      "Contagem de valores: \n",
      " 16     300\n",
      "20     291\n",
      "26     270\n",
      "22     256\n",
      "14     248\n",
      "      ... \n",
      "376      1\n",
      "338      1\n",
      "198      1\n",
      "193      1\n",
      "199      1\n",
      "Name: Seguro_incendio, Length: 216, dtype: int64\n",
      "\n",
      "Nome da variável: total (R$) \n",
      "Contagem de valores: \n",
      " 2555    39\n",
      "2633    25\n",
      "4089    21\n",
      "1219    15\n",
      "760     12\n",
      "        ..\n",
      "6632     1\n",
      "8679     1\n",
      "4577     1\n",
      "6365     1\n",
      "1090     1\n",
      "Name: total (R$), Length: 5751, dtype: int64\n",
      "\n"
     ]
    }
   ],
   "source": [
    "for i in df.columns:\n",
    "    x = df[i].value_counts()\n",
    "    print(\"Nome da variável:\",i,\"\\nContagem de valores:\",'\\n',x)\n",
    "    print()"
   ]
  },
  {
   "cell_type": "code",
   "execution_count": 9,
   "metadata": {},
   "outputs": [
    {
     "data": {
      "text/html": [
       "<div>\n",
       "<style scoped>\n",
       "    .dataframe tbody tr th:only-of-type {\n",
       "        vertical-align: middle;\n",
       "    }\n",
       "\n",
       "    .dataframe tbody tr th {\n",
       "        vertical-align: top;\n",
       "    }\n",
       "\n",
       "    .dataframe thead th {\n",
       "        text-align: right;\n",
       "    }\n",
       "</style>\n",
       "<table border=\"1\" class=\"dataframe\">\n",
       "  <thead>\n",
       "    <tr style=\"text-align: right;\">\n",
       "      <th></th>\n",
       "      <th>Area</th>\n",
       "      <th>Quartos</th>\n",
       "      <th>Banheiros</th>\n",
       "      <th>Vaga_estac</th>\n",
       "      <th>hoa (R$)</th>\n",
       "      <th>Aluguel</th>\n",
       "      <th>Condominio</th>\n",
       "      <th>Seguro_incendio</th>\n",
       "      <th>total (R$)</th>\n",
       "    </tr>\n",
       "  </thead>\n",
       "  <tbody>\n",
       "    <tr>\n",
       "      <td>count</td>\n",
       "      <td>10692.000000</td>\n",
       "      <td>10692.000000</td>\n",
       "      <td>10692.000000</td>\n",
       "      <td>10692.000000</td>\n",
       "      <td>1.069200e+04</td>\n",
       "      <td>10692.000000</td>\n",
       "      <td>10692.000000</td>\n",
       "      <td>10692.000000</td>\n",
       "      <td>1.069200e+04</td>\n",
       "    </tr>\n",
       "    <tr>\n",
       "      <td>mean</td>\n",
       "      <td>149.217920</td>\n",
       "      <td>2.506079</td>\n",
       "      <td>2.236813</td>\n",
       "      <td>1.609147</td>\n",
       "      <td>1.174022e+03</td>\n",
       "      <td>3896.247194</td>\n",
       "      <td>366.704358</td>\n",
       "      <td>53.300879</td>\n",
       "      <td>5.490487e+03</td>\n",
       "    </tr>\n",
       "    <tr>\n",
       "      <td>std</td>\n",
       "      <td>537.016942</td>\n",
       "      <td>1.171266</td>\n",
       "      <td>1.407198</td>\n",
       "      <td>1.589521</td>\n",
       "      <td>1.559231e+04</td>\n",
       "      <td>3408.545518</td>\n",
       "      <td>3107.832321</td>\n",
       "      <td>47.768031</td>\n",
       "      <td>1.648473e+04</td>\n",
       "    </tr>\n",
       "    <tr>\n",
       "      <td>min</td>\n",
       "      <td>11.000000</td>\n",
       "      <td>1.000000</td>\n",
       "      <td>1.000000</td>\n",
       "      <td>0.000000</td>\n",
       "      <td>0.000000e+00</td>\n",
       "      <td>450.000000</td>\n",
       "      <td>0.000000</td>\n",
       "      <td>3.000000</td>\n",
       "      <td>4.990000e+02</td>\n",
       "    </tr>\n",
       "    <tr>\n",
       "      <td>25%</td>\n",
       "      <td>56.000000</td>\n",
       "      <td>2.000000</td>\n",
       "      <td>1.000000</td>\n",
       "      <td>0.000000</td>\n",
       "      <td>1.700000e+02</td>\n",
       "      <td>1530.000000</td>\n",
       "      <td>38.000000</td>\n",
       "      <td>21.000000</td>\n",
       "      <td>2.061750e+03</td>\n",
       "    </tr>\n",
       "    <tr>\n",
       "      <td>50%</td>\n",
       "      <td>90.000000</td>\n",
       "      <td>2.000000</td>\n",
       "      <td>2.000000</td>\n",
       "      <td>1.000000</td>\n",
       "      <td>5.600000e+02</td>\n",
       "      <td>2661.000000</td>\n",
       "      <td>125.000000</td>\n",
       "      <td>36.000000</td>\n",
       "      <td>3.581500e+03</td>\n",
       "    </tr>\n",
       "    <tr>\n",
       "      <td>75%</td>\n",
       "      <td>182.000000</td>\n",
       "      <td>3.000000</td>\n",
       "      <td>3.000000</td>\n",
       "      <td>2.000000</td>\n",
       "      <td>1.237500e+03</td>\n",
       "      <td>5000.000000</td>\n",
       "      <td>375.000000</td>\n",
       "      <td>68.000000</td>\n",
       "      <td>6.768000e+03</td>\n",
       "    </tr>\n",
       "    <tr>\n",
       "      <td>max</td>\n",
       "      <td>46335.000000</td>\n",
       "      <td>13.000000</td>\n",
       "      <td>10.000000</td>\n",
       "      <td>12.000000</td>\n",
       "      <td>1.117000e+06</td>\n",
       "      <td>45000.000000</td>\n",
       "      <td>313700.000000</td>\n",
       "      <td>677.000000</td>\n",
       "      <td>1.120000e+06</td>\n",
       "    </tr>\n",
       "  </tbody>\n",
       "</table>\n",
       "</div>"
      ],
      "text/plain": [
       "               Area       Quartos     Banheiros    Vaga_estac      hoa (R$)  \\\n",
       "count  10692.000000  10692.000000  10692.000000  10692.000000  1.069200e+04   \n",
       "mean     149.217920      2.506079      2.236813      1.609147  1.174022e+03   \n",
       "std      537.016942      1.171266      1.407198      1.589521  1.559231e+04   \n",
       "min       11.000000      1.000000      1.000000      0.000000  0.000000e+00   \n",
       "25%       56.000000      2.000000      1.000000      0.000000  1.700000e+02   \n",
       "50%       90.000000      2.000000      2.000000      1.000000  5.600000e+02   \n",
       "75%      182.000000      3.000000      3.000000      2.000000  1.237500e+03   \n",
       "max    46335.000000     13.000000     10.000000     12.000000  1.117000e+06   \n",
       "\n",
       "            Aluguel     Condominio  Seguro_incendio    total (R$)  \n",
       "count  10692.000000   10692.000000     10692.000000  1.069200e+04  \n",
       "mean    3896.247194     366.704358        53.300879  5.490487e+03  \n",
       "std     3408.545518    3107.832321        47.768031  1.648473e+04  \n",
       "min      450.000000       0.000000         3.000000  4.990000e+02  \n",
       "25%     1530.000000      38.000000        21.000000  2.061750e+03  \n",
       "50%     2661.000000     125.000000        36.000000  3.581500e+03  \n",
       "75%     5000.000000     375.000000        68.000000  6.768000e+03  \n",
       "max    45000.000000  313700.000000       677.000000  1.120000e+06  "
      ]
     },
     "execution_count": 9,
     "metadata": {},
     "output_type": "execute_result"
    }
   ],
   "source": [
    "df.describe()"
   ]
  },
  {
   "cell_type": "code",
   "execution_count": 10,
   "metadata": {},
   "outputs": [
    {
     "data": {
      "text/html": [
       "<div>\n",
       "<style scoped>\n",
       "    .dataframe tbody tr th:only-of-type {\n",
       "        vertical-align: middle;\n",
       "    }\n",
       "\n",
       "    .dataframe tbody tr th {\n",
       "        vertical-align: top;\n",
       "    }\n",
       "\n",
       "    .dataframe thead th {\n",
       "        text-align: right;\n",
       "    }\n",
       "</style>\n",
       "<table border=\"1\" class=\"dataframe\">\n",
       "  <thead>\n",
       "    <tr style=\"text-align: right;\">\n",
       "      <th></th>\n",
       "      <th>Cidade</th>\n",
       "      <th>Andar</th>\n",
       "      <th>Permite_pet</th>\n",
       "      <th>Mobilia</th>\n",
       "    </tr>\n",
       "  </thead>\n",
       "  <tbody>\n",
       "    <tr>\n",
       "      <td>count</td>\n",
       "      <td>10692</td>\n",
       "      <td>10692</td>\n",
       "      <td>10692</td>\n",
       "      <td>10692</td>\n",
       "    </tr>\n",
       "    <tr>\n",
       "      <td>unique</td>\n",
       "      <td>5</td>\n",
       "      <td>35</td>\n",
       "      <td>2</td>\n",
       "      <td>2</td>\n",
       "    </tr>\n",
       "    <tr>\n",
       "      <td>top</td>\n",
       "      <td>São Paulo</td>\n",
       "      <td>-</td>\n",
       "      <td>acept</td>\n",
       "      <td>not furnished</td>\n",
       "    </tr>\n",
       "    <tr>\n",
       "      <td>freq</td>\n",
       "      <td>5887</td>\n",
       "      <td>2461</td>\n",
       "      <td>8316</td>\n",
       "      <td>8086</td>\n",
       "    </tr>\n",
       "  </tbody>\n",
       "</table>\n",
       "</div>"
      ],
      "text/plain": [
       "           Cidade  Andar Permite_pet        Mobilia\n",
       "count       10692  10692       10692          10692\n",
       "unique          5     35           2              2\n",
       "top     São Paulo      -       acept  not furnished\n",
       "freq         5887   2461        8316           8086"
      ]
     },
     "execution_count": 10,
     "metadata": {},
     "output_type": "execute_result"
    }
   ],
   "source": [
    "df.describe(include = ['object'])"
   ]
  },
  {
   "cell_type": "code",
   "execution_count": 11,
   "metadata": {},
   "outputs": [
    {
     "data": {
      "text/plain": [
       "São Paulo         5887\n",
       "Rio de Janeiro    1501\n",
       "Belo Horizonte    1258\n",
       "Porto Alegre      1193\n",
       "Campinas           853\n",
       "Name: Cidade, dtype: int64"
      ]
     },
     "execution_count": 11,
     "metadata": {},
     "output_type": "execute_result"
    }
   ],
   "source": [
    "df['Cidade'].value_counts()"
   ]
  },
  {
   "cell_type": "code",
   "execution_count": null,
   "metadata": {},
   "outputs": [],
   "source": []
  },
  {
   "cell_type": "markdown",
   "metadata": {},
   "source": [
    "Checamos que existem imoveis em 5 cidades diferentes, onde São Paulo possui a maior incidência de Imóveis\n"
   ]
  },
  {
   "cell_type": "markdown",
   "metadata": {},
   "source": [
    "A maior parte dos imóveis é de 2 ou 3 quartos, em média 2 banheiros, 1 vaga de garagem. Aceita Pet e não é mobiliado"
   ]
  },
  {
   "cell_type": "markdown",
   "metadata": {},
   "source": [
    "Percebendo que as duas variáveis categóricas [Permite_Pet] e [Mobilia] são objetos do tipo texto, \n",
    "vamos também traduzi-las para Português. \n"
   ]
  },
  {
   "cell_type": "code",
   "execution_count": 12,
   "metadata": {},
   "outputs": [],
   "source": [
    "df = df.replace(to_replace = 'acept',value = 'sim')\n",
    "df = df.replace(to_replace = 'not acept',value = 'nao')\n",
    "df = df.replace(to_replace = 'furnished',value = 'sim')\n",
    "df = df.replace(to_replace = 'not furnished',value = 'nao')"
   ]
  },
  {
   "cell_type": "code",
   "execution_count": 13,
   "metadata": {},
   "outputs": [
    {
     "data": {
      "text/html": [
       "<div>\n",
       "<style scoped>\n",
       "    .dataframe tbody tr th:only-of-type {\n",
       "        vertical-align: middle;\n",
       "    }\n",
       "\n",
       "    .dataframe tbody tr th {\n",
       "        vertical-align: top;\n",
       "    }\n",
       "\n",
       "    .dataframe thead th {\n",
       "        text-align: right;\n",
       "    }\n",
       "</style>\n",
       "<table border=\"1\" class=\"dataframe\">\n",
       "  <thead>\n",
       "    <tr style=\"text-align: right;\">\n",
       "      <th></th>\n",
       "      <th>Cidade</th>\n",
       "      <th>Area</th>\n",
       "      <th>Quartos</th>\n",
       "      <th>Banheiros</th>\n",
       "      <th>Vaga_estac</th>\n",
       "      <th>Andar</th>\n",
       "      <th>Permite_pet</th>\n",
       "      <th>Mobilia</th>\n",
       "      <th>hoa (R$)</th>\n",
       "      <th>Aluguel</th>\n",
       "      <th>Condominio</th>\n",
       "      <th>Seguro_incendio</th>\n",
       "      <th>total (R$)</th>\n",
       "    </tr>\n",
       "  </thead>\n",
       "  <tbody>\n",
       "    <tr>\n",
       "      <td>0</td>\n",
       "      <td>São Paulo</td>\n",
       "      <td>70</td>\n",
       "      <td>2</td>\n",
       "      <td>1</td>\n",
       "      <td>1</td>\n",
       "      <td>7</td>\n",
       "      <td>sim</td>\n",
       "      <td>sim</td>\n",
       "      <td>2065</td>\n",
       "      <td>3300</td>\n",
       "      <td>211</td>\n",
       "      <td>42</td>\n",
       "      <td>5618</td>\n",
       "    </tr>\n",
       "    <tr>\n",
       "      <td>1</td>\n",
       "      <td>São Paulo</td>\n",
       "      <td>320</td>\n",
       "      <td>4</td>\n",
       "      <td>4</td>\n",
       "      <td>0</td>\n",
       "      <td>20</td>\n",
       "      <td>sim</td>\n",
       "      <td>nao</td>\n",
       "      <td>1200</td>\n",
       "      <td>4960</td>\n",
       "      <td>1750</td>\n",
       "      <td>63</td>\n",
       "      <td>7973</td>\n",
       "    </tr>\n",
       "    <tr>\n",
       "      <td>2</td>\n",
       "      <td>Porto Alegre</td>\n",
       "      <td>80</td>\n",
       "      <td>1</td>\n",
       "      <td>1</td>\n",
       "      <td>1</td>\n",
       "      <td>6</td>\n",
       "      <td>sim</td>\n",
       "      <td>nao</td>\n",
       "      <td>1000</td>\n",
       "      <td>2800</td>\n",
       "      <td>0</td>\n",
       "      <td>41</td>\n",
       "      <td>3841</td>\n",
       "    </tr>\n",
       "    <tr>\n",
       "      <td>3</td>\n",
       "      <td>Porto Alegre</td>\n",
       "      <td>51</td>\n",
       "      <td>2</td>\n",
       "      <td>1</td>\n",
       "      <td>0</td>\n",
       "      <td>2</td>\n",
       "      <td>sim</td>\n",
       "      <td>nao</td>\n",
       "      <td>270</td>\n",
       "      <td>1112</td>\n",
       "      <td>22</td>\n",
       "      <td>17</td>\n",
       "      <td>1421</td>\n",
       "    </tr>\n",
       "    <tr>\n",
       "      <td>4</td>\n",
       "      <td>São Paulo</td>\n",
       "      <td>25</td>\n",
       "      <td>1</td>\n",
       "      <td>1</td>\n",
       "      <td>0</td>\n",
       "      <td>1</td>\n",
       "      <td>nao</td>\n",
       "      <td>nao</td>\n",
       "      <td>0</td>\n",
       "      <td>800</td>\n",
       "      <td>25</td>\n",
       "      <td>11</td>\n",
       "      <td>836</td>\n",
       "    </tr>\n",
       "  </tbody>\n",
       "</table>\n",
       "</div>"
      ],
      "text/plain": [
       "         Cidade  Area  Quartos  Banheiros  Vaga_estac Andar Permite_pet  \\\n",
       "0     São Paulo    70        2          1           1     7         sim   \n",
       "1     São Paulo   320        4          4           0    20         sim   \n",
       "2  Porto Alegre    80        1          1           1     6         sim   \n",
       "3  Porto Alegre    51        2          1           0     2         sim   \n",
       "4     São Paulo    25        1          1           0     1         nao   \n",
       "\n",
       "  Mobilia  hoa (R$)  Aluguel  Condominio  Seguro_incendio  total (R$)  \n",
       "0     sim      2065     3300         211               42        5618  \n",
       "1     nao      1200     4960        1750               63        7973  \n",
       "2     nao      1000     2800           0               41        3841  \n",
       "3     nao       270     1112          22               17        1421  \n",
       "4     nao         0      800          25               11         836  "
      ]
     },
     "execution_count": 13,
     "metadata": {},
     "output_type": "execute_result"
    }
   ],
   "source": [
    "df.head()"
   ]
  },
  {
   "cell_type": "markdown",
   "metadata": {},
   "source": [
    "Antes de aplicar análises mais profundas, vamos checar se existem valores nulos. Em caso de, as barras ficariam falhadas, como um código de barras, indicando o local do N/A \n"
   ]
  },
  {
   "cell_type": "code",
   "execution_count": 14,
   "metadata": {},
   "outputs": [
    {
     "data": {
      "text/plain": [
       "<matplotlib.axes._subplots.AxesSubplot at 0x7ffb17484a90>"
      ]
     },
     "execution_count": 14,
     "metadata": {},
     "output_type": "execute_result"
    },
    {
     "data": {
      "image/png": "[encoded data removed]",
      "text/plain": [
       "<Figure size 1800x720 with 2 Axes>"
      ]
     },
     "metadata": {
      "needs_background": "light"
     },
     "output_type": "display_data"
    }
   ],
   "source": [
    "msno.matrix(df)"
   ]
  },
  {
   "cell_type": "markdown",
   "metadata": {},
   "source": [
    "Como o dataset está completo e sem dados faltantes. Vamos aplicar algumas análises extras. As duas variáveis categóricas permite_pet e mobilia, por hora iremos manter como texto para fins de visualização, na segunda etapa faremos a normalização para criar um modelo preditivo para o valor de aluguel"
   ]
  },
  {
   "cell_type": "markdown",
   "metadata": {},
   "source": [
    "Conforme checado anteriormente, o valor de Desvio padrão para Area do Imóvel, Aluguel e Condomínio tem discrepancias absurdas. Provavelmente indicando que existem diferentes categorias de imóveis, ou outliers extremos. Podemos no tar no boxplot abaixo, que o Aluguel dos Imóveis varia muito entre apartamentos com até 4 quartos"
   ]
  },
  {
   "cell_type": "code",
   "execution_count": 15,
   "metadata": {},
   "outputs": [
    {
     "data": {
      "text/plain": [
       "<matplotlib.axes._subplots.AxesSubplot at 0x7ffb18af27d0>"
      ]
     },
     "execution_count": 15,
     "metadata": {},
     "output_type": "execute_result"
    },
    {
     "data": {
      "image/png": "[encoded data removed]",
      "text/plain": [
       "<Figure size 432x288 with 1 Axes>"
      ]
     },
     "metadata": {
      "needs_background": "light"
     },
     "output_type": "display_data"
    }
   ],
   "source": [
    "sns.boxplot(x=\"Quartos\", y=\"Area\", data=df)"
   ]
  },
  {
   "cell_type": "code",
   "execution_count": 16,
   "metadata": {},
   "outputs": [
    {
     "data": {
      "text/plain": [
       "<matplotlib.axes._subplots.AxesSubplot at 0x7ffb18d7afd0>"
      ]
     },
     "execution_count": 16,
     "metadata": {},
     "output_type": "execute_result"
    },
    {
     "data": {
      "image/png": "[encoded data removed]",
      "text/plain": [
       "<Figure size 432x288 with 1 Axes>"
      ]
     },
     "metadata": {
      "needs_background": "light"
     },
     "output_type": "display_data"
    }
   ],
   "source": [
    "sns.boxplot(x=\"Area\", y=\"Aluguel\", data=df)"
   ]
  },
  {
   "cell_type": "markdown",
   "metadata": {},
   "source": [
    "Podemos observar que existe uma grande disparidade no preço do Aluguel. Além de ter um Desvio Padrão alto para Area e Aluguel. Vamos calcular uma métrica que não estava presente no dataset. Que é o preço do Aluguel por m2. E considerar ela na exploração posterior"
   ]
  },
  {
   "cell_type": "markdown",
   "metadata": {},
   "source": [
    "Podemos perceber que existem imóveis no banco de dados com mais de 10.000m2. Isso da a entender que exitem no dataset imóveis não residenciais. Como este é o intuito. vamos considerar apenas os residenciais"
   ]
  },
  {
   "cell_type": "code",
   "execution_count": 17,
   "metadata": {},
   "outputs": [],
   "source": [
    "df['preco_m2'] = df['Aluguel'] / df['Area']"
   ]
  },
  {
   "cell_type": "code",
   "execution_count": 73,
   "metadata": {},
   "outputs": [],
   "source": [
    "df = df[df.Area < 350]\n"
   ]
  },
  {
   "cell_type": "markdown",
   "metadata": {},
   "source": [
    "Vamos checar como ficou a distribuição dos Imóveis por Metragem"
   ]
  },
  {
   "cell_type": "code",
   "execution_count": 74,
   "metadata": {},
   "outputs": [
    {
     "data": {
      "text/plain": [
       "Text(0.5, 1.0, 'Histograma de Area dos Imoveis')"
      ]
     },
     "execution_count": 74,
     "metadata": {},
     "output_type": "execute_result"
    },
    {
     "data": {
      "image/png": "[encoded data removed]",
      "text/plain": [
       "<Figure size 432x288 with 1 Axes>"
      ]
     },
     "metadata": {
      "needs_background": "light"
     },
     "output_type": "display_data"
    }
   ],
   "source": [
    "%matplotlib inline\n",
    "import matplotlib as plt\n",
    "from matplotlib import pyplot\n",
    "plt.pyplot.hist(df[\"Area\"])\n",
    "\n",
    "# set x/y labels and plot title\n",
    "plt.pyplot.xlabel(\"Metragem\")\n",
    "plt.pyplot.ylabel(\"Contagem\")\n",
    "plt.pyplot.title(\"Histograma de Area dos Imoveis\")"
   ]
  },
  {
   "cell_type": "markdown",
   "metadata": {},
   "source": [
    "Abaixo podemos observar que imóveis com até 4 quartos tem uma grande variancia de preço, talvez o fato de o apartamento ser Mobiliado ?\n",
    "Podemos perceber abaixo, que o Mobiliado, é 74% mais caro"
   ]
  },
  {
   "cell_type": "code",
   "execution_count": 75,
   "metadata": {
    "scrolled": true
   },
   "outputs": [
    {
     "data": {
      "text/plain": [
       "<matplotlib.axes._subplots.AxesSubplot at 0x7ffb07c2d5d0>"
      ]
     },
     "execution_count": 75,
     "metadata": {},
     "output_type": "execute_result"
    },
    {
     "data": {
      "image/png": "[encoded data removed]",
      "text/plain": [
       "<Figure size 432x288 with 1 Axes>"
      ]
     },
     "metadata": {
      "needs_background": "light"
     },
     "output_type": "display_data"
    }
   ],
   "source": [
    "sns.boxplot(x=\"Quartos\", y=\"preco_m2\", data=df)"
   ]
  },
  {
   "cell_type": "code",
   "execution_count": 109,
   "metadata": {},
   "outputs": [
    {
     "data": {
      "text/html": [
       "<div>\n",
       "<style scoped>\n",
       "    .dataframe tbody tr th:only-of-type {\n",
       "        vertical-align: middle;\n",
       "    }\n",
       "\n",
       "    .dataframe tbody tr th {\n",
       "        vertical-align: top;\n",
       "    }\n",
       "\n",
       "    .dataframe thead th {\n",
       "        text-align: right;\n",
       "    }\n",
       "</style>\n",
       "<table border=\"1\" class=\"dataframe\">\n",
       "  <thead>\n",
       "    <tr style=\"text-align: right;\">\n",
       "      <th></th>\n",
       "      <th>Mobilia</th>\n",
       "      <th>preco_m2</th>\n",
       "    </tr>\n",
       "  </thead>\n",
       "  <tbody>\n",
       "    <tr>\n",
       "      <td>0</td>\n",
       "      <td>nao</td>\n",
       "      <td>29.736299</td>\n",
       "    </tr>\n",
       "    <tr>\n",
       "      <td>1</td>\n",
       "      <td>sim</td>\n",
       "      <td>49.429231</td>\n",
       "    </tr>\n",
       "  </tbody>\n",
       "</table>\n",
       "</div>"
      ],
      "text/plain": [
       "  Mobilia   preco_m2\n",
       "0     nao  29.736299\n",
       "1     sim  49.429231"
      ]
     },
     "execution_count": 109,
     "metadata": {},
     "output_type": "execute_result"
    }
   ],
   "source": [
    "df_grupo1 = df[['Mobilia','preco_m2']]\n",
    "grouped_mobilia = df_grupo1.groupby(['Mobilia'],as_index=False).mean()\n",
    "grouped_mobilia"
   ]
  },
  {
   "cell_type": "markdown",
   "metadata": {},
   "source": [
    "Vamos analisar mais a fundo a questão da Mobilia, considerando a Quantidade de Quartos e a cidade"
   ]
  },
  {
   "cell_type": "code",
   "execution_count": 110,
   "metadata": {
    "scrolled": true
   },
   "outputs": [
    {
     "data": {
      "text/html": [
       "<div>\n",
       "<style scoped>\n",
       "    .dataframe tbody tr th:only-of-type {\n",
       "        vertical-align: middle;\n",
       "    }\n",
       "\n",
       "    .dataframe tbody tr th {\n",
       "        vertical-align: top;\n",
       "    }\n",
       "\n",
       "    .dataframe thead th {\n",
       "        text-align: right;\n",
       "    }\n",
       "</style>\n",
       "<table border=\"1\" class=\"dataframe\">\n",
       "  <thead>\n",
       "    <tr style=\"text-align: right;\">\n",
       "      <th></th>\n",
       "      <th>Cidade</th>\n",
       "      <th>Quartos</th>\n",
       "      <th>Mobilia</th>\n",
       "      <th>preco_m2</th>\n",
       "    </tr>\n",
       "  </thead>\n",
       "  <tbody>\n",
       "    <tr>\n",
       "      <td>0</td>\n",
       "      <td>Belo Horizonte</td>\n",
       "      <td>1</td>\n",
       "      <td>nao</td>\n",
       "      <td>33.873863</td>\n",
       "    </tr>\n",
       "    <tr>\n",
       "      <td>1</td>\n",
       "      <td>Belo Horizonte</td>\n",
       "      <td>1</td>\n",
       "      <td>sim</td>\n",
       "      <td>48.893738</td>\n",
       "    </tr>\n",
       "    <tr>\n",
       "      <td>2</td>\n",
       "      <td>Belo Horizonte</td>\n",
       "      <td>2</td>\n",
       "      <td>nao</td>\n",
       "      <td>21.141827</td>\n",
       "    </tr>\n",
       "    <tr>\n",
       "      <td>3</td>\n",
       "      <td>Belo Horizonte</td>\n",
       "      <td>2</td>\n",
       "      <td>sim</td>\n",
       "      <td>29.498540</td>\n",
       "    </tr>\n",
       "    <tr>\n",
       "      <td>4</td>\n",
       "      <td>Belo Horizonte</td>\n",
       "      <td>3</td>\n",
       "      <td>nao</td>\n",
       "      <td>20.477453</td>\n",
       "    </tr>\n",
       "    <tr>\n",
       "      <td>...</td>\n",
       "      <td>...</td>\n",
       "      <td>...</td>\n",
       "      <td>...</td>\n",
       "      <td>...</td>\n",
       "    </tr>\n",
       "    <tr>\n",
       "      <td>57</td>\n",
       "      <td>São Paulo</td>\n",
       "      <td>5</td>\n",
       "      <td>sim</td>\n",
       "      <td>24.594064</td>\n",
       "    </tr>\n",
       "    <tr>\n",
       "      <td>58</td>\n",
       "      <td>São Paulo</td>\n",
       "      <td>6</td>\n",
       "      <td>nao</td>\n",
       "      <td>33.888183</td>\n",
       "    </tr>\n",
       "    <tr>\n",
       "      <td>59</td>\n",
       "      <td>São Paulo</td>\n",
       "      <td>7</td>\n",
       "      <td>nao</td>\n",
       "      <td>31.500000</td>\n",
       "    </tr>\n",
       "    <tr>\n",
       "      <td>60</td>\n",
       "      <td>São Paulo</td>\n",
       "      <td>7</td>\n",
       "      <td>sim</td>\n",
       "      <td>24.000000</td>\n",
       "    </tr>\n",
       "    <tr>\n",
       "      <td>61</td>\n",
       "      <td>São Paulo</td>\n",
       "      <td>8</td>\n",
       "      <td>nao</td>\n",
       "      <td>26.700368</td>\n",
       "    </tr>\n",
       "  </tbody>\n",
       "</table>\n",
       "<p>62 rows × 4 columns</p>\n",
       "</div>"
      ],
      "text/plain": [
       "            Cidade  Quartos Mobilia   preco_m2\n",
       "0   Belo Horizonte        1     nao  33.873863\n",
       "1   Belo Horizonte        1     sim  48.893738\n",
       "2   Belo Horizonte        2     nao  21.141827\n",
       "3   Belo Horizonte        2     sim  29.498540\n",
       "4   Belo Horizonte        3     nao  20.477453\n",
       "..             ...      ...     ...        ...\n",
       "57       São Paulo        5     sim  24.594064\n",
       "58       São Paulo        6     nao  33.888183\n",
       "59       São Paulo        7     nao  31.500000\n",
       "60       São Paulo        7     sim  24.000000\n",
       "61       São Paulo        8     nao  26.700368\n",
       "\n",
       "[62 rows x 4 columns]"
      ]
     },
     "execution_count": 110,
     "metadata": {},
     "output_type": "execute_result"
    }
   ],
   "source": [
    "df_grupo2 = df[['Cidade','Quartos','Mobilia','preco_m2']]\n",
    "grouped_quartos = df_grupo2.groupby(['Cidade','Quartos','Mobilia'],as_index=False).mean()\n",
    "grouped_quartos\n",
    "  "
   ]
  },
  {
   "cell_type": "markdown",
   "metadata": {},
   "source": [
    "Vamos analisar um comparativo para encontra a relação entre Cidade e o fato de o Apartamento ser Mobiliado. "
   ]
  },
  {
   "cell_type": "code",
   "execution_count": 111,
   "metadata": {},
   "outputs": [
    {
     "data": {
      "text/html": [
       "<div>\n",
       "<style scoped>\n",
       "    .dataframe tbody tr th:only-of-type {\n",
       "        vertical-align: middle;\n",
       "    }\n",
       "\n",
       "    .dataframe tbody tr th {\n",
       "        vertical-align: top;\n",
       "    }\n",
       "\n",
       "    .dataframe thead th {\n",
       "        text-align: right;\n",
       "    }\n",
       "</style>\n",
       "<table border=\"1\" class=\"dataframe\">\n",
       "  <thead>\n",
       "    <tr style=\"text-align: right;\">\n",
       "      <th></th>\n",
       "      <th>Cidade</th>\n",
       "      <th>Mobilia</th>\n",
       "      <th>preco_m2</th>\n",
       "    </tr>\n",
       "  </thead>\n",
       "  <tbody>\n",
       "    <tr>\n",
       "      <td>0</td>\n",
       "      <td>Belo Horizonte</td>\n",
       "      <td>nao</td>\n",
       "      <td>23.242083</td>\n",
       "    </tr>\n",
       "    <tr>\n",
       "      <td>1</td>\n",
       "      <td>Belo Horizonte</td>\n",
       "      <td>sim</td>\n",
       "      <td>36.293163</td>\n",
       "    </tr>\n",
       "    <tr>\n",
       "      <td>2</td>\n",
       "      <td>Campinas</td>\n",
       "      <td>nao</td>\n",
       "      <td>19.739288</td>\n",
       "    </tr>\n",
       "    <tr>\n",
       "      <td>3</td>\n",
       "      <td>Campinas</td>\n",
       "      <td>sim</td>\n",
       "      <td>33.321091</td>\n",
       "    </tr>\n",
       "    <tr>\n",
       "      <td>4</td>\n",
       "      <td>Porto Alegre</td>\n",
       "      <td>nao</td>\n",
       "      <td>23.609452</td>\n",
       "    </tr>\n",
       "    <tr>\n",
       "      <td>5</td>\n",
       "      <td>Porto Alegre</td>\n",
       "      <td>sim</td>\n",
       "      <td>32.589430</td>\n",
       "    </tr>\n",
       "    <tr>\n",
       "      <td>6</td>\n",
       "      <td>Rio de Janeiro</td>\n",
       "      <td>nao</td>\n",
       "      <td>30.448724</td>\n",
       "    </tr>\n",
       "    <tr>\n",
       "      <td>7</td>\n",
       "      <td>Rio de Janeiro</td>\n",
       "      <td>sim</td>\n",
       "      <td>48.711653</td>\n",
       "    </tr>\n",
       "    <tr>\n",
       "      <td>8</td>\n",
       "      <td>São Paulo</td>\n",
       "      <td>nao</td>\n",
       "      <td>34.268584</td>\n",
       "    </tr>\n",
       "    <tr>\n",
       "      <td>9</td>\n",
       "      <td>São Paulo</td>\n",
       "      <td>sim</td>\n",
       "      <td>55.543665</td>\n",
       "    </tr>\n",
       "  </tbody>\n",
       "</table>\n",
       "</div>"
      ],
      "text/plain": [
       "           Cidade Mobilia   preco_m2\n",
       "0  Belo Horizonte     nao  23.242083\n",
       "1  Belo Horizonte     sim  36.293163\n",
       "2        Campinas     nao  19.739288\n",
       "3        Campinas     sim  33.321091\n",
       "4    Porto Alegre     nao  23.609452\n",
       "5    Porto Alegre     sim  32.589430\n",
       "6  Rio de Janeiro     nao  30.448724\n",
       "7  Rio de Janeiro     sim  48.711653\n",
       "8       São Paulo     nao  34.268584\n",
       "9       São Paulo     sim  55.543665"
      ]
     },
     "execution_count": 111,
     "metadata": {},
     "output_type": "execute_result"
    }
   ],
   "source": [
    "df_grupo3 = df[['Cidade','Mobilia','preco_m2']]\n",
    "grouped_cidade = df_grupo3.groupby(['Cidade','Mobilia'],as_index=False).mean()\n",
    "grouped_cidade"
   ]
  },
  {
   "cell_type": "code",
   "execution_count": 112,
   "metadata": {},
   "outputs": [
    {
     "data": {
      "text/plain": [
       "57.01137711524835"
      ]
     },
     "execution_count": 112,
     "metadata": {},
     "output_type": "execute_result"
    }
   ],
   "source": [
    "sem_mobilia = grouped_cidade.loc[grouped_cidade['Mobilia'] == 'nao']\n",
    "sem_mobilia.reset_index(inplace=True, drop=True)\n",
    "\n",
    "com_mobilia = grouped_cidade.loc[grouped_cidade['Mobilia'] == 'sim']\n",
    "com_mobilia.reset_index(inplace=True, drop=True)\n",
    "\n",
    "diff = (com_mobilia['preco_m2'] / sem_mobilia['preco_m2'] - 1 ) *100\n",
    "\n",
    "diff.mean()"
   ]
  },
  {
   "cell_type": "markdown",
   "metadata": {},
   "source": [
    "Podemos checar que os apartamentos mobiliados são em média 57% mais caros do que sem mobilia. Iremos transformar a tabela em um Pivot para plotar um mapa de calor"
   ]
  },
  {
   "cell_type": "code",
   "execution_count": 80,
   "metadata": {},
   "outputs": [
    {
     "data": {
      "text/html": [
       "<div>\n",
       "<style scoped>\n",
       "    .dataframe tbody tr th:only-of-type {\n",
       "        vertical-align: middle;\n",
       "    }\n",
       "\n",
       "    .dataframe tbody tr th {\n",
       "        vertical-align: top;\n",
       "    }\n",
       "\n",
       "    .dataframe thead tr th {\n",
       "        text-align: left;\n",
       "    }\n",
       "\n",
       "    .dataframe thead tr:last-of-type th {\n",
       "        text-align: right;\n",
       "    }\n",
       "</style>\n",
       "<table border=\"1\" class=\"dataframe\">\n",
       "  <thead>\n",
       "    <tr>\n",
       "      <th></th>\n",
       "      <th colspan=\"2\" halign=\"left\">preco_m2</th>\n",
       "    </tr>\n",
       "    <tr>\n",
       "      <th>Mobilia</th>\n",
       "      <th>nao</th>\n",
       "      <th>sim</th>\n",
       "    </tr>\n",
       "    <tr>\n",
       "      <th>Cidade</th>\n",
       "      <th></th>\n",
       "      <th></th>\n",
       "    </tr>\n",
       "  </thead>\n",
       "  <tbody>\n",
       "    <tr>\n",
       "      <td>Belo Horizonte</td>\n",
       "      <td>23.242083</td>\n",
       "      <td>36.293163</td>\n",
       "    </tr>\n",
       "    <tr>\n",
       "      <td>Campinas</td>\n",
       "      <td>19.739288</td>\n",
       "      <td>33.321091</td>\n",
       "    </tr>\n",
       "    <tr>\n",
       "      <td>Porto Alegre</td>\n",
       "      <td>23.609452</td>\n",
       "      <td>32.589430</td>\n",
       "    </tr>\n",
       "    <tr>\n",
       "      <td>Rio de Janeiro</td>\n",
       "      <td>30.448724</td>\n",
       "      <td>48.711653</td>\n",
       "    </tr>\n",
       "    <tr>\n",
       "      <td>São Paulo</td>\n",
       "      <td>34.268584</td>\n",
       "      <td>55.543665</td>\n",
       "    </tr>\n",
       "  </tbody>\n",
       "</table>\n",
       "</div>"
      ],
      "text/plain": [
       "                 preco_m2           \n",
       "Mobilia               nao        sim\n",
       "Cidade                              \n",
       "Belo Horizonte  23.242083  36.293163\n",
       "Campinas        19.739288  33.321091\n",
       "Porto Alegre    23.609452  32.589430\n",
       "Rio de Janeiro  30.448724  48.711653\n",
       "São Paulo       34.268584  55.543665"
      ]
     },
     "execution_count": 80,
     "metadata": {},
     "output_type": "execute_result"
    }
   ],
   "source": [
    "grouped_pivot = grouped_cidade.pivot(index='Cidade',columns='Mobilia')\n",
    "grouped_pivot"
   ]
  },
  {
   "cell_type": "code",
   "execution_count": 81,
   "metadata": {
    "scrolled": true
   },
   "outputs": [
    {
     "data": {
      "image/png": "[encoded data removed]",
      "text/plain": [
       "<Figure size 432x288 with 2 Axes>"
      ]
     },
     "metadata": {
      "needs_background": "light"
     },
     "output_type": "display_data"
    }
   ],
   "source": [
    "import matplotlib.pyplot as plt\n",
    "%matplotlib inline \n",
    "plt.pcolor(grouped_pivot, cmap='RdBu')\n",
    "plt.colorbar()\n",
    "plt.show()"
   ]
  },
  {
   "cell_type": "code",
   "execution_count": 82,
   "metadata": {},
   "outputs": [
    {
     "data": {
      "image/png": "[encoded data removed]",
      "text/plain": [
       "<Figure size 432x288 with 2 Axes>"
      ]
     },
     "metadata": {
      "needs_background": "light"
     },
     "output_type": "display_data"
    }
   ],
   "source": [
    "fig, ax = plt.subplots()\n",
    "im = ax.pcolor(grouped_pivot, cmap='RdBu')\n",
    "\n",
    "#label names\n",
    "row_labels = grouped_pivot.columns.levels[1]\n",
    "col_labels = grouped_pivot.index\n",
    "\n",
    "#move ticks and labels to the center\n",
    "ax.set_xticks(np.arange(grouped_pivot.shape[1]) + 0.5, minor=False)\n",
    "ax.set_yticks(np.arange(grouped_pivot.shape[0]) + 0.5, minor=False)\n",
    "\n",
    "#insert labels\n",
    "ax.set_xticklabels(row_labels, minor=False)\n",
    "ax.set_yticklabels(col_labels, minor=False)\n",
    "\n",
    "#rotate label if too long\n",
    "plt.xticks(rotation=90)\n",
    "\n",
    "fig.colorbar(im)\n",
    "plt.show()"
   ]
  },
  {
   "cell_type": "markdown",
   "metadata": {},
   "source": [
    "# Podemos perceber que m2 mais caro está em São Paulo, e Rio de Janeiro, e a Mobilia deixa o Imovel em média 57% mais caro. Mas ainda não é o suficiente, vamos para mais análises"
   ]
  },
  {
   "cell_type": "markdown",
   "metadata": {},
   "source": [
    "Vamos agora criar uma outra análise, observar se a quantidade de banheiros do Imovel impacta no preço do Aluguel. E se isso tem alguma relação com a localização"
   ]
  },
  {
   "cell_type": "code",
   "execution_count": 83,
   "metadata": {},
   "outputs": [
    {
     "data": {
      "text/html": [
       "<div>\n",
       "<style scoped>\n",
       "    .dataframe tbody tr th:only-of-type {\n",
       "        vertical-align: middle;\n",
       "    }\n",
       "\n",
       "    .dataframe tbody tr th {\n",
       "        vertical-align: top;\n",
       "    }\n",
       "\n",
       "    .dataframe thead th {\n",
       "        text-align: right;\n",
       "    }\n",
       "</style>\n",
       "<table border=\"1\" class=\"dataframe\">\n",
       "  <thead>\n",
       "    <tr style=\"text-align: right;\">\n",
       "      <th></th>\n",
       "      <th>Cidade</th>\n",
       "      <th>Banheiros</th>\n",
       "      <th>preco_m2</th>\n",
       "    </tr>\n",
       "  </thead>\n",
       "  <tbody>\n",
       "    <tr>\n",
       "      <td>0</td>\n",
       "      <td>Belo Horizonte</td>\n",
       "      <td>1</td>\n",
       "      <td>25.410464</td>\n",
       "    </tr>\n",
       "    <tr>\n",
       "      <td>1</td>\n",
       "      <td>Belo Horizonte</td>\n",
       "      <td>2</td>\n",
       "      <td>22.554157</td>\n",
       "    </tr>\n",
       "    <tr>\n",
       "      <td>2</td>\n",
       "      <td>Belo Horizonte</td>\n",
       "      <td>3</td>\n",
       "      <td>24.354774</td>\n",
       "    </tr>\n",
       "    <tr>\n",
       "      <td>3</td>\n",
       "      <td>Belo Horizonte</td>\n",
       "      <td>4</td>\n",
       "      <td>30.085237</td>\n",
       "    </tr>\n",
       "    <tr>\n",
       "      <td>4</td>\n",
       "      <td>Belo Horizonte</td>\n",
       "      <td>5</td>\n",
       "      <td>33.913786</td>\n",
       "    </tr>\n",
       "    <tr>\n",
       "      <td>5</td>\n",
       "      <td>Belo Horizonte</td>\n",
       "      <td>6</td>\n",
       "      <td>30.785226</td>\n",
       "    </tr>\n",
       "    <tr>\n",
       "      <td>6</td>\n",
       "      <td>Belo Horizonte</td>\n",
       "      <td>7</td>\n",
       "      <td>11.991342</td>\n",
       "    </tr>\n",
       "    <tr>\n",
       "      <td>7</td>\n",
       "      <td>Campinas</td>\n",
       "      <td>1</td>\n",
       "      <td>20.970409</td>\n",
       "    </tr>\n",
       "    <tr>\n",
       "      <td>8</td>\n",
       "      <td>Campinas</td>\n",
       "      <td>2</td>\n",
       "      <td>21.198576</td>\n",
       "    </tr>\n",
       "    <tr>\n",
       "      <td>9</td>\n",
       "      <td>Campinas</td>\n",
       "      <td>3</td>\n",
       "      <td>23.376374</td>\n",
       "    </tr>\n",
       "  </tbody>\n",
       "</table>\n",
       "</div>"
      ],
      "text/plain": [
       "           Cidade  Banheiros   preco_m2\n",
       "0  Belo Horizonte          1  25.410464\n",
       "1  Belo Horizonte          2  22.554157\n",
       "2  Belo Horizonte          3  24.354774\n",
       "3  Belo Horizonte          4  30.085237\n",
       "4  Belo Horizonte          5  33.913786\n",
       "5  Belo Horizonte          6  30.785226\n",
       "6  Belo Horizonte          7  11.991342\n",
       "7        Campinas          1  20.970409\n",
       "8        Campinas          2  21.198576\n",
       "9        Campinas          3  23.376374"
      ]
     },
     "execution_count": 83,
     "metadata": {},
     "output_type": "execute_result"
    }
   ],
   "source": [
    "df_grupo4 = df[['Cidade','Banheiros','Mobilia','preco_m2']]\n",
    "grouped_teste = df_grupo4.groupby(['Cidade','Banheiros'],as_index=False).mean()\n",
    "grouped_teste.head(10)"
   ]
  },
  {
   "cell_type": "code",
   "execution_count": 84,
   "metadata": {},
   "outputs": [
    {
     "data": {
      "text/html": [
       "<div>\n",
       "<style scoped>\n",
       "    .dataframe tbody tr th:only-of-type {\n",
       "        vertical-align: middle;\n",
       "    }\n",
       "\n",
       "    .dataframe tbody tr th {\n",
       "        vertical-align: top;\n",
       "    }\n",
       "\n",
       "    .dataframe thead tr th {\n",
       "        text-align: left;\n",
       "    }\n",
       "\n",
       "    .dataframe thead tr:last-of-type th {\n",
       "        text-align: right;\n",
       "    }\n",
       "</style>\n",
       "<table border=\"1\" class=\"dataframe\">\n",
       "  <thead>\n",
       "    <tr>\n",
       "      <th></th>\n",
       "      <th colspan=\"8\" halign=\"left\">preco_m2</th>\n",
       "    </tr>\n",
       "    <tr>\n",
       "      <th>Banheiros</th>\n",
       "      <th>1</th>\n",
       "      <th>2</th>\n",
       "      <th>3</th>\n",
       "      <th>4</th>\n",
       "      <th>5</th>\n",
       "      <th>6</th>\n",
       "      <th>7</th>\n",
       "      <th>8</th>\n",
       "    </tr>\n",
       "    <tr>\n",
       "      <th>Cidade</th>\n",
       "      <th></th>\n",
       "      <th></th>\n",
       "      <th></th>\n",
       "      <th></th>\n",
       "      <th></th>\n",
       "      <th></th>\n",
       "      <th></th>\n",
       "      <th></th>\n",
       "    </tr>\n",
       "  </thead>\n",
       "  <tbody>\n",
       "    <tr>\n",
       "      <td>Belo Horizonte</td>\n",
       "      <td>25.410464</td>\n",
       "      <td>22.554157</td>\n",
       "      <td>24.354774</td>\n",
       "      <td>30.085237</td>\n",
       "      <td>33.913786</td>\n",
       "      <td>30.785226</td>\n",
       "      <td>11.991342</td>\n",
       "      <td>NaN</td>\n",
       "    </tr>\n",
       "    <tr>\n",
       "      <td>Campinas</td>\n",
       "      <td>20.970409</td>\n",
       "      <td>21.198576</td>\n",
       "      <td>23.376374</td>\n",
       "      <td>21.923506</td>\n",
       "      <td>26.396792</td>\n",
       "      <td>23.202537</td>\n",
       "      <td>32.786885</td>\n",
       "      <td>NaN</td>\n",
       "    </tr>\n",
       "    <tr>\n",
       "      <td>Porto Alegre</td>\n",
       "      <td>25.904347</td>\n",
       "      <td>25.962186</td>\n",
       "      <td>25.780566</td>\n",
       "      <td>25.983254</td>\n",
       "      <td>29.030227</td>\n",
       "      <td>41.670825</td>\n",
       "      <td>12.883436</td>\n",
       "      <td>NaN</td>\n",
       "    </tr>\n",
       "    <tr>\n",
       "      <td>Rio de Janeiro</td>\n",
       "      <td>37.388552</td>\n",
       "      <td>33.023030</td>\n",
       "      <td>33.329752</td>\n",
       "      <td>34.466010</td>\n",
       "      <td>42.126595</td>\n",
       "      <td>31.404483</td>\n",
       "      <td>NaN</td>\n",
       "      <td>NaN</td>\n",
       "    </tr>\n",
       "    <tr>\n",
       "      <td>São Paulo</td>\n",
       "      <td>47.748097</td>\n",
       "      <td>37.448021</td>\n",
       "      <td>34.286618</td>\n",
       "      <td>33.181734</td>\n",
       "      <td>34.019721</td>\n",
       "      <td>28.185577</td>\n",
       "      <td>38.703231</td>\n",
       "      <td>36.333333</td>\n",
       "    </tr>\n",
       "  </tbody>\n",
       "</table>\n",
       "</div>"
      ],
      "text/plain": [
       "                 preco_m2                                              \\\n",
       "Banheiros               1          2          3          4          5   \n",
       "Cidade                                                                  \n",
       "Belo Horizonte  25.410464  22.554157  24.354774  30.085237  33.913786   \n",
       "Campinas        20.970409  21.198576  23.376374  21.923506  26.396792   \n",
       "Porto Alegre    25.904347  25.962186  25.780566  25.983254  29.030227   \n",
       "Rio de Janeiro  37.388552  33.023030  33.329752  34.466010  42.126595   \n",
       "São Paulo       47.748097  37.448021  34.286618  33.181734  34.019721   \n",
       "\n",
       "                                                 \n",
       "Banheiros               6          7          8  \n",
       "Cidade                                           \n",
       "Belo Horizonte  30.785226  11.991342        NaN  \n",
       "Campinas        23.202537  32.786885        NaN  \n",
       "Porto Alegre    41.670825  12.883436        NaN  \n",
       "Rio de Janeiro  31.404483        NaN        NaN  \n",
       "São Paulo       28.185577  38.703231  36.333333  "
      ]
     },
     "execution_count": 84,
     "metadata": {},
     "output_type": "execute_result"
    }
   ],
   "source": [
    "grouped_pivot4 = grouped_teste.pivot(index='Cidade',columns='Banheiros')\n",
    "grouped_pivot4"
   ]
  },
  {
   "cell_type": "code",
   "execution_count": 85,
   "metadata": {},
   "outputs": [
    {
     "data": {
      "text/html": [
       "<div>\n",
       "<style scoped>\n",
       "    .dataframe tbody tr th:only-of-type {\n",
       "        vertical-align: middle;\n",
       "    }\n",
       "\n",
       "    .dataframe tbody tr th {\n",
       "        vertical-align: top;\n",
       "    }\n",
       "\n",
       "    .dataframe thead tr th {\n",
       "        text-align: left;\n",
       "    }\n",
       "\n",
       "    .dataframe thead tr:last-of-type th {\n",
       "        text-align: right;\n",
       "    }\n",
       "</style>\n",
       "<table border=\"1\" class=\"dataframe\">\n",
       "  <thead>\n",
       "    <tr>\n",
       "      <th></th>\n",
       "      <th colspan=\"8\" halign=\"left\">preco_m2</th>\n",
       "    </tr>\n",
       "    <tr>\n",
       "      <th>Banheiros</th>\n",
       "      <th>1</th>\n",
       "      <th>2</th>\n",
       "      <th>3</th>\n",
       "      <th>4</th>\n",
       "      <th>5</th>\n",
       "      <th>6</th>\n",
       "      <th>7</th>\n",
       "      <th>8</th>\n",
       "    </tr>\n",
       "    <tr>\n",
       "      <th>Cidade</th>\n",
       "      <th></th>\n",
       "      <th></th>\n",
       "      <th></th>\n",
       "      <th></th>\n",
       "      <th></th>\n",
       "      <th></th>\n",
       "      <th></th>\n",
       "      <th></th>\n",
       "    </tr>\n",
       "  </thead>\n",
       "  <tbody>\n",
       "    <tr>\n",
       "      <td>Belo Horizonte</td>\n",
       "      <td>25.410464</td>\n",
       "      <td>22.554157</td>\n",
       "      <td>24.354774</td>\n",
       "      <td>30.085237</td>\n",
       "      <td>33.913786</td>\n",
       "      <td>30.785226</td>\n",
       "      <td>11.991342</td>\n",
       "      <td>0.000000</td>\n",
       "    </tr>\n",
       "    <tr>\n",
       "      <td>Campinas</td>\n",
       "      <td>20.970409</td>\n",
       "      <td>21.198576</td>\n",
       "      <td>23.376374</td>\n",
       "      <td>21.923506</td>\n",
       "      <td>26.396792</td>\n",
       "      <td>23.202537</td>\n",
       "      <td>32.786885</td>\n",
       "      <td>0.000000</td>\n",
       "    </tr>\n",
       "    <tr>\n",
       "      <td>Porto Alegre</td>\n",
       "      <td>25.904347</td>\n",
       "      <td>25.962186</td>\n",
       "      <td>25.780566</td>\n",
       "      <td>25.983254</td>\n",
       "      <td>29.030227</td>\n",
       "      <td>41.670825</td>\n",
       "      <td>12.883436</td>\n",
       "      <td>0.000000</td>\n",
       "    </tr>\n",
       "    <tr>\n",
       "      <td>Rio de Janeiro</td>\n",
       "      <td>37.388552</td>\n",
       "      <td>33.023030</td>\n",
       "      <td>33.329752</td>\n",
       "      <td>34.466010</td>\n",
       "      <td>42.126595</td>\n",
       "      <td>31.404483</td>\n",
       "      <td>0.000000</td>\n",
       "      <td>0.000000</td>\n",
       "    </tr>\n",
       "    <tr>\n",
       "      <td>São Paulo</td>\n",
       "      <td>47.748097</td>\n",
       "      <td>37.448021</td>\n",
       "      <td>34.286618</td>\n",
       "      <td>33.181734</td>\n",
       "      <td>34.019721</td>\n",
       "      <td>28.185577</td>\n",
       "      <td>38.703231</td>\n",
       "      <td>36.333333</td>\n",
       "    </tr>\n",
       "  </tbody>\n",
       "</table>\n",
       "</div>"
      ],
      "text/plain": [
       "                 preco_m2                                              \\\n",
       "Banheiros               1          2          3          4          5   \n",
       "Cidade                                                                  \n",
       "Belo Horizonte  25.410464  22.554157  24.354774  30.085237  33.913786   \n",
       "Campinas        20.970409  21.198576  23.376374  21.923506  26.396792   \n",
       "Porto Alegre    25.904347  25.962186  25.780566  25.983254  29.030227   \n",
       "Rio de Janeiro  37.388552  33.023030  33.329752  34.466010  42.126595   \n",
       "São Paulo       47.748097  37.448021  34.286618  33.181734  34.019721   \n",
       "\n",
       "                                                 \n",
       "Banheiros               6          7          8  \n",
       "Cidade                                           \n",
       "Belo Horizonte  30.785226  11.991342   0.000000  \n",
       "Campinas        23.202537  32.786885   0.000000  \n",
       "Porto Alegre    41.670825  12.883436   0.000000  \n",
       "Rio de Janeiro  31.404483   0.000000   0.000000  \n",
       "São Paulo       28.185577  38.703231  36.333333  "
      ]
     },
     "execution_count": 85,
     "metadata": {},
     "output_type": "execute_result"
    }
   ],
   "source": [
    "grouped_pivot4 = grouped_pivot4.fillna(0) \n",
    "grouped_pivot4"
   ]
  },
  {
   "cell_type": "code",
   "execution_count": 86,
   "metadata": {},
   "outputs": [
    {
     "data": {
      "image/png": "[encoded data removed]",
      "text/plain": [
       "<Figure size 432x288 with 2 Axes>"
      ]
     },
     "metadata": {
      "needs_background": "light"
     },
     "output_type": "display_data"
    }
   ],
   "source": [
    "plt.pcolor(grouped_pivot4, cmap='RdBu')\n",
    "plt.colorbar()\n",
    "plt.show()"
   ]
  },
  {
   "cell_type": "code",
   "execution_count": 87,
   "metadata": {},
   "outputs": [
    {
     "data": {
      "image/png": "[encoded data removed]",
      "text/plain": [
       "<Figure size 432x288 with 2 Axes>"
      ]
     },
     "metadata": {
      "needs_background": "light"
     },
     "output_type": "display_data"
    }
   ],
   "source": [
    "fig, ax = plt.subplots()\n",
    "im = ax.pcolor(grouped_pivot4, cmap='RdBu')\n",
    "\n",
    "#Labels\n",
    "row_labels = grouped_pivot4.columns.levels[1]\n",
    "col_labels = grouped_pivot4.index\n",
    "\n",
    "#Colocar o label no centro \n",
    "ax.set_xticks(np.arange(grouped_pivot4.shape[1]) + 0.5, minor=False)\n",
    "ax.set_yticks(np.arange(grouped_pivot4.shape[0]) + 0.5, minor=False)\n",
    "\n",
    "#Inserir os labels\n",
    "ax.set_xticklabels(row_labels, minor=False)\n",
    "ax.set_yticklabels(col_labels, minor=False)\n",
    "\n",
    "#Girar se for muito longo\n",
    "plt.xticks(rotation=90)\n",
    "\n",
    "fig.colorbar(im)\n",
    "plt.show()"
   ]
  },
  {
   "cell_type": "markdown",
   "metadata": {},
   "source": [
    "# A análise indica que os apartamentos em SP com até 2 banheiros tem os valores mais elevados de Aluguel.  Rio de Janeiro e Porto Alegre tem preços mais elevados quando a quantidade de Banheiros atinge mais de 5"
   ]
  },
  {
   "cell_type": "markdown",
   "metadata": {},
   "source": [
    "Uma outra técnica não utilizada anteriormente, é fazer o \"Binning\" de dados. Iremos categorizar o tamanho do Imóvel de acordo com sua metragem quadrada. Essa informação será útil na segunda parte da análise"
   ]
  },
  {
   "cell_type": "markdown",
   "metadata": {},
   "source": [
    "Vamos separar os imóveis em 3 grupos. Pequeno, Médio e Grande"
   ]
  },
  {
   "cell_type": "code",
   "execution_count": 113,
   "metadata": {},
   "outputs": [
    {
     "data": {
      "text/plain": [
       "array([ 11.        , 123.33333333, 235.66666667, 348.        ])"
      ]
     },
     "execution_count": 113,
     "metadata": {},
     "output_type": "execute_result"
    }
   ],
   "source": [
    "bins = np.linspace(min(df[\"Area\"]), max(df[\"Area\"]), 4)\n",
    "bins"
   ]
  },
  {
   "cell_type": "code",
   "execution_count": 114,
   "metadata": {},
   "outputs": [],
   "source": [
    "group_names = ['Pequeno', 'Medio', 'Grande']"
   ]
  },
  {
   "cell_type": "code",
   "execution_count": 115,
   "metadata": {},
   "outputs": [
    {
     "name": "stderr",
     "output_type": "stream",
     "text": [
      "/Users/robsonmuller/opt/anaconda3/lib/python3.7/site-packages/ipykernel_launcher.py:1: SettingWithCopyWarning: \n",
      "A value is trying to be set on a copy of a slice from a DataFrame.\n",
      "Try using .loc[row_indexer,col_indexer] = value instead\n",
      "\n",
      "See the caveats in the documentation: http://pandas.pydata.org/pandas-docs/stable/user_guide/indexing.html#returning-a-view-versus-a-copy\n",
      "  \"\"\"Entry point for launching an IPython kernel.\n"
     ]
    },
    {
     "data": {
      "text/html": [
       "<div>\n",
       "<style scoped>\n",
       "    .dataframe tbody tr th:only-of-type {\n",
       "        vertical-align: middle;\n",
       "    }\n",
       "\n",
       "    .dataframe tbody tr th {\n",
       "        vertical-align: top;\n",
       "    }\n",
       "\n",
       "    .dataframe thead th {\n",
       "        text-align: right;\n",
       "    }\n",
       "</style>\n",
       "<table border=\"1\" class=\"dataframe\">\n",
       "  <thead>\n",
       "    <tr style=\"text-align: right;\">\n",
       "      <th></th>\n",
       "      <th>Area</th>\n",
       "      <th>Area-Binned</th>\n",
       "    </tr>\n",
       "  </thead>\n",
       "  <tbody>\n",
       "    <tr>\n",
       "      <td>0</td>\n",
       "      <td>70</td>\n",
       "      <td>Pequeno</td>\n",
       "    </tr>\n",
       "    <tr>\n",
       "      <td>1</td>\n",
       "      <td>320</td>\n",
       "      <td>Grande</td>\n",
       "    </tr>\n",
       "    <tr>\n",
       "      <td>2</td>\n",
       "      <td>80</td>\n",
       "      <td>Pequeno</td>\n",
       "    </tr>\n",
       "    <tr>\n",
       "      <td>3</td>\n",
       "      <td>51</td>\n",
       "      <td>Pequeno</td>\n",
       "    </tr>\n",
       "    <tr>\n",
       "      <td>4</td>\n",
       "      <td>25</td>\n",
       "      <td>Pequeno</td>\n",
       "    </tr>\n",
       "    <tr>\n",
       "      <td>6</td>\n",
       "      <td>72</td>\n",
       "      <td>Pequeno</td>\n",
       "    </tr>\n",
       "    <tr>\n",
       "      <td>7</td>\n",
       "      <td>213</td>\n",
       "      <td>Medio</td>\n",
       "    </tr>\n",
       "    <tr>\n",
       "      <td>8</td>\n",
       "      <td>152</td>\n",
       "      <td>Medio</td>\n",
       "    </tr>\n",
       "    <tr>\n",
       "      <td>9</td>\n",
       "      <td>35</td>\n",
       "      <td>Pequeno</td>\n",
       "    </tr>\n",
       "    <tr>\n",
       "      <td>10</td>\n",
       "      <td>26</td>\n",
       "      <td>Pequeno</td>\n",
       "    </tr>\n",
       "  </tbody>\n",
       "</table>\n",
       "</div>"
      ],
      "text/plain": [
       "    Area Area-Binned\n",
       "0     70     Pequeno\n",
       "1    320      Grande\n",
       "2     80     Pequeno\n",
       "3     51     Pequeno\n",
       "4     25     Pequeno\n",
       "6     72     Pequeno\n",
       "7    213       Medio\n",
       "8    152       Medio\n",
       "9     35     Pequeno\n",
       "10    26     Pequeno"
      ]
     },
     "execution_count": 115,
     "metadata": {},
     "output_type": "execute_result"
    }
   ],
   "source": [
    "df['Area-Binned'] = pd.cut(df['Area'], bins, labels=group_names, include_lowest=True )\n",
    "df[['Area','Area-Binned']].head(10)"
   ]
  },
  {
   "cell_type": "markdown",
   "metadata": {},
   "source": [
    "Vamos checar como ficou a distribuição"
   ]
  },
  {
   "cell_type": "code",
   "execution_count": 116,
   "metadata": {},
   "outputs": [
    {
     "data": {
      "text/plain": [
       "Text(0.5, 1.0, 'Imóveis por Tamanho')"
      ]
     },
     "execution_count": 116,
     "metadata": {},
     "output_type": "execute_result"
    },
    {
     "data": {
      "image/png": "[encoded data removed]",
      "text/plain": [
       "<Figure size 432x288 with 1 Axes>"
      ]
     },
     "metadata": {
      "needs_background": "light"
     },
     "output_type": "display_data"
    }
   ],
   "source": [
    "%matplotlib inline\n",
    "import matplotlib as plt\n",
    "from matplotlib import pyplot\n",
    "pyplot.bar(group_names, df[\"Area-Binned\"].value_counts())\n",
    "\n",
    "# set x/y labels and plot title\n",
    "plt.pyplot.xlabel(\"Tamanho do Imovel\")\n",
    "plt.pyplot.ylabel(\"Contagem\")\n",
    "plt.pyplot.title(\"Imóveis por Tamanho\")"
   ]
  },
  {
   "cell_type": "markdown",
   "metadata": {},
   "source": [
    "Por curiosidade, vamos checar como fica a variação do aluguel, de acordo com o agrupamento de tamanho do Imóvel, para isso usamos o boxplot da biblioteca Seaborn. "
   ]
  },
  {
   "cell_type": "code",
   "execution_count": 117,
   "metadata": {
    "scrolled": true
   },
   "outputs": [
    {
     "data": {
      "text/plain": [
       "<matplotlib.axes._subplots.AxesSubplot at 0x7ffb0c316b10>"
      ]
     },
     "execution_count": 117,
     "metadata": {},
     "output_type": "execute_result"
    },
    {
     "data": {
      "image/png": "[encoded data removed]",
      "text/plain": [
       "<Figure size 432x288 with 1 Axes>"
      ]
     },
     "metadata": {
      "needs_background": "light"
     },
     "output_type": "display_data"
    }
   ],
   "source": [
    "sns.boxplot(x=\"Area-Binned\", y=\"preco_m2\", data=df)"
   ]
  },
  {
   "cell_type": "markdown",
   "metadata": {},
   "source": [
    "Notamos que existe algo deixando os apartamentos pequenos caros (Aqui na nossa análise, aqueles até 170m2) Usando a função de correlação vamos observar que outros fatores tem lineariedade com o valor do aluguel."
   ]
  },
  {
   "cell_type": "code",
   "execution_count": 118,
   "metadata": {},
   "outputs": [
    {
     "data": {
      "text/html": [
       "<div>\n",
       "<style scoped>\n",
       "    .dataframe tbody tr th:only-of-type {\n",
       "        vertical-align: middle;\n",
       "    }\n",
       "\n",
       "    .dataframe tbody tr th {\n",
       "        vertical-align: top;\n",
       "    }\n",
       "\n",
       "    .dataframe thead th {\n",
       "        text-align: right;\n",
       "    }\n",
       "</style>\n",
       "<table border=\"1\" class=\"dataframe\">\n",
       "  <thead>\n",
       "    <tr style=\"text-align: right;\">\n",
       "      <th></th>\n",
       "      <th>Area</th>\n",
       "      <th>Quartos</th>\n",
       "      <th>Banheiros</th>\n",
       "      <th>Vaga_estac</th>\n",
       "      <th>hoa (R$)</th>\n",
       "      <th>Aluguel</th>\n",
       "      <th>Condominio</th>\n",
       "      <th>Seguro_incendio</th>\n",
       "      <th>total (R$)</th>\n",
       "      <th>preco_m2</th>\n",
       "    </tr>\n",
       "  </thead>\n",
       "  <tbody>\n",
       "    <tr>\n",
       "      <td>Area</td>\n",
       "      <td>1.000000</td>\n",
       "      <td>0.747813</td>\n",
       "      <td>0.775807</td>\n",
       "      <td>0.672784</td>\n",
       "      <td>0.040072</td>\n",
       "      <td>0.651301</td>\n",
       "      <td>0.066485</td>\n",
       "      <td>0.674050</td>\n",
       "      <td>0.164200</td>\n",
       "      <td>-0.242214</td>\n",
       "    </tr>\n",
       "    <tr>\n",
       "      <td>Quartos</td>\n",
       "      <td>0.747813</td>\n",
       "      <td>1.000000</td>\n",
       "      <td>0.698183</td>\n",
       "      <td>0.582340</td>\n",
       "      <td>0.006423</td>\n",
       "      <td>0.474992</td>\n",
       "      <td>0.044194</td>\n",
       "      <td>0.494888</td>\n",
       "      <td>0.097142</td>\n",
       "      <td>-0.286626</td>\n",
       "    </tr>\n",
       "    <tr>\n",
       "      <td>Banheiros</td>\n",
       "      <td>0.775807</td>\n",
       "      <td>0.698183</td>\n",
       "      <td>1.000000</td>\n",
       "      <td>0.663166</td>\n",
       "      <td>0.056185</td>\n",
       "      <td>0.621024</td>\n",
       "      <td>0.071626</td>\n",
       "      <td>0.624476</td>\n",
       "      <td>0.175270</td>\n",
       "      <td>-0.093779</td>\n",
       "    </tr>\n",
       "    <tr>\n",
       "      <td>Vaga_estac</td>\n",
       "      <td>0.672784</td>\n",
       "      <td>0.582340</td>\n",
       "      <td>0.663166</td>\n",
       "      <td>1.000000</td>\n",
       "      <td>0.008840</td>\n",
       "      <td>0.520997</td>\n",
       "      <td>0.061947</td>\n",
       "      <td>0.534005</td>\n",
       "      <td>0.110787</td>\n",
       "      <td>-0.082507</td>\n",
       "    </tr>\n",
       "    <tr>\n",
       "      <td>hoa (R$)</td>\n",
       "      <td>0.040072</td>\n",
       "      <td>0.006423</td>\n",
       "      <td>0.056185</td>\n",
       "      <td>0.008840</td>\n",
       "      <td>1.000000</td>\n",
       "      <td>0.039043</td>\n",
       "      <td>0.005738</td>\n",
       "      <td>0.034216</td>\n",
       "      <td>0.964232</td>\n",
       "      <td>0.000924</td>\n",
       "    </tr>\n",
       "    <tr>\n",
       "      <td>Aluguel</td>\n",
       "      <td>0.651301</td>\n",
       "      <td>0.474992</td>\n",
       "      <td>0.621024</td>\n",
       "      <td>0.520997</td>\n",
       "      <td>0.039043</td>\n",
       "      <td>1.000000</td>\n",
       "      <td>0.069104</td>\n",
       "      <td>0.987625</td>\n",
       "      <td>0.224284</td>\n",
       "      <td>0.399244</td>\n",
       "    </tr>\n",
       "    <tr>\n",
       "      <td>Condominio</td>\n",
       "      <td>0.066485</td>\n",
       "      <td>0.044194</td>\n",
       "      <td>0.071626</td>\n",
       "      <td>0.061947</td>\n",
       "      <td>0.005738</td>\n",
       "      <td>0.069104</td>\n",
       "      <td>1.000000</td>\n",
       "      <td>0.066684</td>\n",
       "      <td>0.206025</td>\n",
       "      <td>0.014395</td>\n",
       "    </tr>\n",
       "    <tr>\n",
       "      <td>Seguro_incendio</td>\n",
       "      <td>0.674050</td>\n",
       "      <td>0.494888</td>\n",
       "      <td>0.624476</td>\n",
       "      <td>0.534005</td>\n",
       "      <td>0.034216</td>\n",
       "      <td>0.987625</td>\n",
       "      <td>0.066684</td>\n",
       "      <td>1.000000</td>\n",
       "      <td>0.217116</td>\n",
       "      <td>0.365424</td>\n",
       "    </tr>\n",
       "    <tr>\n",
       "      <td>total (R$)</td>\n",
       "      <td>0.164200</td>\n",
       "      <td>0.097142</td>\n",
       "      <td>0.175270</td>\n",
       "      <td>0.110787</td>\n",
       "      <td>0.964232</td>\n",
       "      <td>0.224284</td>\n",
       "      <td>0.206025</td>\n",
       "      <td>0.217116</td>\n",
       "      <td>1.000000</td>\n",
       "      <td>0.072965</td>\n",
       "    </tr>\n",
       "    <tr>\n",
       "      <td>preco_m2</td>\n",
       "      <td>-0.242214</td>\n",
       "      <td>-0.286626</td>\n",
       "      <td>-0.093779</td>\n",
       "      <td>-0.082507</td>\n",
       "      <td>0.000924</td>\n",
       "      <td>0.399244</td>\n",
       "      <td>0.014395</td>\n",
       "      <td>0.365424</td>\n",
       "      <td>0.072965</td>\n",
       "      <td>1.000000</td>\n",
       "    </tr>\n",
       "  </tbody>\n",
       "</table>\n",
       "</div>"
      ],
      "text/plain": [
       "                     Area   Quartos  Banheiros  Vaga_estac  hoa (R$)  \\\n",
       "Area             1.000000  0.747813   0.775807    0.672784  0.040072   \n",
       "Quartos          0.747813  1.000000   0.698183    0.582340  0.006423   \n",
       "Banheiros        0.775807  0.698183   1.000000    0.663166  0.056185   \n",
       "Vaga_estac       0.672784  0.582340   0.663166    1.000000  0.008840   \n",
       "hoa (R$)         0.040072  0.006423   0.056185    0.008840  1.000000   \n",
       "Aluguel          0.651301  0.474992   0.621024    0.520997  0.039043   \n",
       "Condominio       0.066485  0.044194   0.071626    0.061947  0.005738   \n",
       "Seguro_incendio  0.674050  0.494888   0.624476    0.534005  0.034216   \n",
       "total (R$)       0.164200  0.097142   0.175270    0.110787  0.964232   \n",
       "preco_m2        -0.242214 -0.286626  -0.093779   -0.082507  0.000924   \n",
       "\n",
       "                  Aluguel  Condominio  Seguro_incendio  total (R$)  preco_m2  \n",
       "Area             0.651301    0.066485         0.674050    0.164200 -0.242214  \n",
       "Quartos          0.474992    0.044194         0.494888    0.097142 -0.286626  \n",
       "Banheiros        0.621024    0.071626         0.624476    0.175270 -0.093779  \n",
       "Vaga_estac       0.520997    0.061947         0.534005    0.110787 -0.082507  \n",
       "hoa (R$)         0.039043    0.005738         0.034216    0.964232  0.000924  \n",
       "Aluguel          1.000000    0.069104         0.987625    0.224284  0.399244  \n",
       "Condominio       0.069104    1.000000         0.066684    0.206025  0.014395  \n",
       "Seguro_incendio  0.987625    0.066684         1.000000    0.217116  0.365424  \n",
       "total (R$)       0.224284    0.206025         0.217116    1.000000  0.072965  \n",
       "preco_m2         0.399244    0.014395         0.365424    0.072965  1.000000  "
      ]
     },
     "execution_count": 118,
     "metadata": {},
     "output_type": "execute_result"
    }
   ],
   "source": [
    "df.corr()"
   ]
  },
  {
   "cell_type": "markdown",
   "metadata": {},
   "source": [
    "A correlação de Aluguel e Seguro Incendio é quase 1. Aqui não vamos tratar o fator P. Apenas observar a relação"
   ]
  },
  {
   "cell_type": "code",
   "execution_count": 119,
   "metadata": {},
   "outputs": [
    {
     "data": {
      "image/png": "[encoded data removed]",
      "text/plain": [
       "<Figure size 432x288 with 1 Axes>"
      ]
     },
     "metadata": {
      "needs_background": "light"
     },
     "output_type": "display_data"
    }
   ],
   "source": [
    "cmap = sns.cubehelix_palette(dark=.5, light=.20, as_cmap=True)\n",
    "ax = sns.scatterplot(x=\"Area\", y=\"preco_m2\",\n",
    "                      hue=\"Area-Binned\", size=\"Area-Binned\",\n",
    "                      sizes=(30, 300), hue_norm=(5, 10),\n",
    "                      legend=\"full\", data=df)"
   ]
  },
  {
   "cell_type": "code",
   "execution_count": 107,
   "metadata": {},
   "outputs": [
    {
     "data": {
      "image/png": "[encoded data removed]",
      "text/plain": [
       "<Figure size 432x288 with 1 Axes>"
      ]
     },
     "metadata": {
      "needs_background": "light"
     },
     "output_type": "display_data"
    }
   ],
   "source": [
    "cmap = sns.cubehelix_palette(dark=.3, light=.8, as_cmap=True)\n",
    "ax = sns.scatterplot(x=\"Area\", y=\"preco_m2\",\n",
    "                      hue=\"Quartos\", size=\"Area-Binned\",\n",
    "                      palette=\"Set2\",\n",
    "                      data=df\n",
    "                        )"
   ]
  },
  {
   "cell_type": "markdown",
   "metadata": {},
   "source": [
    "Podemos perceber que os Imóveis classificados como pequenos tem o preço por m2 consideravelmente mais elevado do que os imoveis maiores. Mas por quê? Cruzando com a quantidade de quartos. Percebemos que os imóveis com 0 quartos são os mais caros. Até então nos permitindo concluir que se tratam de imóveis Comerciais, ou provavelmente imóveis localizados em area central do tipo Studio"
   ]
  },
  {
   "cell_type": "markdown",
   "metadata": {},
   "source": [
    "# Esta foi uma abordagem inicial neste dataset. No próximo notebook vou aplicar um modelo de regressão linear, efetuar normalização, padronização, checar a correlação de Pearson e montar um algoritmo para prever/estimar o valor de aluguel de acordo com as caracteristicas do imóvel."
   ]
  },
  {
   "cell_type": "code",
   "execution_count": null,
   "metadata": {},
   "outputs": [],
   "source": []
  }
 ],
 "metadata": {
  "kernelspec": {
   "display_name": "Python 3.7.4 64-bit (conda)",
   "language": "python",
   "name": "python37464bitcondaec9d4c9be39d409998044a5a4026abc3"
  },
  "language_info": {
   "codemirror_mode": {
    "name": "ipython",
    "version": 3
   },
   "file_extension": ".py",
   "mimetype": "text/x-python",
   "name": "python",
   "nbconvert_exporter": "python",
   "pygments_lexer": "ipython3",
   "version": "3.7.4"
  }
 },
 "nbformat": 4,
 "nbformat_minor": 2
}
